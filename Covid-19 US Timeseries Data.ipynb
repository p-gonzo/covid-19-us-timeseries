{
 "cells": [
  {
   "cell_type": "markdown",
   "metadata": {},
   "source": [
    "# Covid-19 United States Growth Modeling\n",
    "\n",
    "### Data Source:\n",
    "#### 2019 Novel Coronavirus Visual Dashboard operated by the Johns Hopkins University Center for Systems Science and Engineering\n",
    "\n",
    "Link: https://github.com/CSSEGISandData/COVID-19/blob/master/csse_covid_19_data/csse_covid_19_time_series/time_series_19-covid-Confirmed.csv"
   ]
  },
  {
   "cell_type": "code",
   "execution_count": 1,
   "metadata": {},
   "outputs": [],
   "source": [
    "from matplotlib import pyplot as plt\n",
    "import numpy as np\n",
    "import numpy.random as npr\n",
    "import pandas as pd\n",
    "from scipy.optimize import leastsq\n",
    "\n",
    "import datetime\n",
    "import warnings\n",
    "\n",
    "from lib import get_or_update_source_data\n",
    "\n",
    "warnings.filterwarnings('ignore')"
   ]
  },
  {
   "cell_type": "code",
   "execution_count": 2,
   "metadata": {},
   "outputs": [
    {
     "name": "stdout",
     "output_type": "stream",
     "text": [
      "Updating source data\n"
     ]
    }
   ],
   "source": [
    "get_or_update_source_data()"
   ]
  },
  {
   "cell_type": "code",
   "execution_count": 3,
   "metadata": {},
   "outputs": [],
   "source": [
    "df = pd.read_csv('COVID-19/csse_covid_19_data/csse_covid_19_time_series/time_series_19-covid-Confirmed.csv') "
   ]
  },
  {
   "cell_type": "markdown",
   "metadata": {},
   "source": [
    "## Report Update Information:"
   ]
  },
  {
   "cell_type": "code",
   "execution_count": 4,
   "metadata": {
    "scrolled": true
   },
   "outputs": [
    {
     "name": "stdout",
     "output_type": "stream",
     "text": [
      "Report Generated On:\t\t03/14/20\n",
      "Data Source Updated On:\t\t3/14/20\n"
     ]
    }
   ],
   "source": [
    "print(f'Report Generated On:\\t\\t{datetime.datetime.now().strftime(\"%m/%d/%y\")}\\nData Source Updated On:\\t\\t{df.columns[-1]}')"
   ]
  },
  {
   "cell_type": "markdown",
   "metadata": {},
   "source": [
    "### On 3/10/20, data stopped being reported by county and began reporting at the state level:\n",
    "\n",
    "Source: https://github.com/CSSEGISandData/COVID-19/issues/382"
   ]
  },
  {
   "cell_type": "code",
   "execution_count": 5,
   "metadata": {
    "scrolled": true
   },
   "outputs": [],
   "source": [
    "us_states_by_county = df[(df[\"Country/Region\"]=='US') & (df[\"Province/State\"].str.contains(','))]"
   ]
  },
  {
   "cell_type": "code",
   "execution_count": 6,
   "metadata": {
    "scrolled": true
   },
   "outputs": [],
   "source": [
    "us_states = df[(df[\"Country/Region\"]=='US') & (df[\"Province/State\"].str.contains(',').apply(lambda x: not x))]"
   ]
  },
  {
   "cell_type": "code",
   "execution_count": 7,
   "metadata": {
    "scrolled": true
   },
   "outputs": [],
   "source": [
    "states_sum_by_county = us_states_by_county.sum().to_frame().drop([\"Province/State\", \"Country/Region\", \"Lat\", \"Long\"])\n",
    "states_sum_by_county = states_sum_by_county[(states_sum_by_county[0]!=0)]\n",
    "states_sum_by_county.columns = [\"Confirmed Cases\"]\n",
    "states_sum_by_county.index = [datetime.datetime.strptime(index, \"%m/%d/%y\") for index in states_sum_by_county.index]"
   ]
  },
  {
   "cell_type": "code",
   "execution_count": 8,
   "metadata": {},
   "outputs": [],
   "source": [
    "states_sum = us_states.sum().to_frame().drop([\"Province/State\", \"Country/Region\", \"Lat\", \"Long\"])\n",
    "states_sum = states_sum[(states_sum[0]!=0)]\n",
    "states_sum.columns = [\"Confirmed Cases\"]\n",
    "states_sum.index = [datetime.datetime.strptime(index, \"%m/%d/%y\") for index in states_sum.index]"
   ]
  },
  {
   "cell_type": "code",
   "execution_count": 9,
   "metadata": {},
   "outputs": [],
   "source": [
    "totals = pd.concat([states_sum_by_county.loc[:'2020-03-9'], states_sum.loc['2020-03-10':]], axis=0)"
   ]
  },
  {
   "cell_type": "markdown",
   "metadata": {},
   "source": [
    "# Data and Graphs:"
   ]
  },
  {
   "cell_type": "markdown",
   "metadata": {},
   "source": [
    "### Follows typical exponential growth starting around Feb 23rd:"
   ]
  },
  {
   "cell_type": "code",
   "execution_count": 10,
   "metadata": {},
   "outputs": [
    {
     "data": {
      "text/plain": [
       "<matplotlib.axes._subplots.AxesSubplot at 0x12360e8d0>"
      ]
     },
     "execution_count": 10,
     "metadata": {},
     "output_type": "execute_result"
    },
    {
     "data": {
      "image/png": "[encoded data removed]",
      "text/plain": [
       "<Figure size 432x288 with 1 Axes>"
      ]
     },
     "metadata": {
      "needs_background": "light"
     },
     "output_type": "display_data"
    }
   ],
   "source": [
    "totals.plot()"
   ]
  },
  {
   "cell_type": "markdown",
   "metadata": {},
   "source": [
    "### Viewing growth from a log scale:"
   ]
  },
  {
   "cell_type": "code",
   "execution_count": 11,
   "metadata": {
    "scrolled": false
   },
   "outputs": [
    {
     "data": {
      "text/plain": [
       "<matplotlib.axes._subplots.AxesSubplot at 0x125809f90>"
      ]
     },
     "execution_count": 11,
     "metadata": {},
     "output_type": "execute_result"
    },
    {
     "data": {
      "image/png": "[encoded data removed]",
      "text/plain": [
       "<Figure size 432x288 with 1 Axes>"
      ]
     },
     "metadata": {
      "needs_background": "light"
     },
     "output_type": "display_data"
    }
   ],
   "source": [
    "totals.plot(logy=True)"
   ]
  },
  {
   "cell_type": "markdown",
   "metadata": {},
   "source": [
    "### Data in Numbers - US Confirmed Cases (From Feb 23rd):"
   ]
  },
  {
   "cell_type": "code",
   "execution_count": 12,
   "metadata": {},
   "outputs": [
    {
     "data": {
      "text/html": [
       "<div>\n",
       "<style scoped>\n",
       "    .dataframe tbody tr th:only-of-type {\n",
       "        vertical-align: middle;\n",
       "    }\n",
       "\n",
       "    .dataframe tbody tr th {\n",
       "        vertical-align: top;\n",
       "    }\n",
       "\n",
       "    .dataframe thead th {\n",
       "        text-align: right;\n",
       "    }\n",
       "</style>\n",
       "<table border=\"1\" class=\"dataframe\">\n",
       "  <thead>\n",
       "    <tr style=\"text-align: right;\">\n",
       "      <th></th>\n",
       "      <th>Confirmed Cases</th>\n",
       "    </tr>\n",
       "  </thead>\n",
       "  <tbody>\n",
       "    <tr>\n",
       "      <th>2020-02-23</th>\n",
       "      <td>15</td>\n",
       "    </tr>\n",
       "    <tr>\n",
       "      <th>2020-02-24</th>\n",
       "      <td>15</td>\n",
       "    </tr>\n",
       "    <tr>\n",
       "      <th>2020-02-25</th>\n",
       "      <td>15</td>\n",
       "    </tr>\n",
       "    <tr>\n",
       "      <th>2020-02-26</th>\n",
       "      <td>15</td>\n",
       "    </tr>\n",
       "    <tr>\n",
       "      <th>2020-02-27</th>\n",
       "      <td>16</td>\n",
       "    </tr>\n",
       "    <tr>\n",
       "      <th>2020-02-28</th>\n",
       "      <td>16</td>\n",
       "    </tr>\n",
       "    <tr>\n",
       "      <th>2020-02-29</th>\n",
       "      <td>24</td>\n",
       "    </tr>\n",
       "    <tr>\n",
       "      <th>2020-03-01</th>\n",
       "      <td>30</td>\n",
       "    </tr>\n",
       "    <tr>\n",
       "      <th>2020-03-02</th>\n",
       "      <td>53</td>\n",
       "    </tr>\n",
       "    <tr>\n",
       "      <th>2020-03-03</th>\n",
       "      <td>73</td>\n",
       "    </tr>\n",
       "    <tr>\n",
       "      <th>2020-03-04</th>\n",
       "      <td>104</td>\n",
       "    </tr>\n",
       "    <tr>\n",
       "      <th>2020-03-05</th>\n",
       "      <td>172</td>\n",
       "    </tr>\n",
       "    <tr>\n",
       "      <th>2020-03-06</th>\n",
       "      <td>217</td>\n",
       "    </tr>\n",
       "    <tr>\n",
       "      <th>2020-03-07</th>\n",
       "      <td>336</td>\n",
       "    </tr>\n",
       "    <tr>\n",
       "      <th>2020-03-08</th>\n",
       "      <td>452</td>\n",
       "    </tr>\n",
       "    <tr>\n",
       "      <th>2020-03-09</th>\n",
       "      <td>517</td>\n",
       "    </tr>\n",
       "    <tr>\n",
       "      <th>2020-03-10</th>\n",
       "      <td>959</td>\n",
       "    </tr>\n",
       "    <tr>\n",
       "      <th>2020-03-11</th>\n",
       "      <td>1281</td>\n",
       "    </tr>\n",
       "    <tr>\n",
       "      <th>2020-03-12</th>\n",
       "      <td>1663</td>\n",
       "    </tr>\n",
       "    <tr>\n",
       "      <th>2020-03-13</th>\n",
       "      <td>2179</td>\n",
       "    </tr>\n",
       "  </tbody>\n",
       "</table>\n",
       "</div>"
      ],
      "text/plain": [
       "           Confirmed Cases\n",
       "2020-02-23              15\n",
       "2020-02-24              15\n",
       "2020-02-25              15\n",
       "2020-02-26              15\n",
       "2020-02-27              16\n",
       "2020-02-28              16\n",
       "2020-02-29              24\n",
       "2020-03-01              30\n",
       "2020-03-02              53\n",
       "2020-03-03              73\n",
       "2020-03-04             104\n",
       "2020-03-05             172\n",
       "2020-03-06             217\n",
       "2020-03-07             336\n",
       "2020-03-08             452\n",
       "2020-03-09             517\n",
       "2020-03-10             959\n",
       "2020-03-11            1281\n",
       "2020-03-12            1663\n",
       "2020-03-13            2179"
      ]
     },
     "execution_count": 12,
     "metadata": {},
     "output_type": "execute_result"
    }
   ],
   "source": [
    "totals = totals.loc['2020-02-23':]\n",
    "totals"
   ]
  },
  {
   "cell_type": "markdown",
   "metadata": {},
   "source": [
    "# Generating Lines of Best Fit:\n",
    "\n",
    "### We can see that fitting to the data seems to work pretty well"
   ]
  },
  {
   "cell_type": "code",
   "execution_count": 13,
   "metadata": {},
   "outputs": [],
   "source": [
    "m, b = np.polyfit(list(range(len(totals.index))), np.log(list(totals['Confirmed Cases'])), 1)"
   ]
  },
  {
   "cell_type": "code",
   "execution_count": 14,
   "metadata": {},
   "outputs": [
    {
     "data": {
      "text/plain": [
       "<matplotlib.axes._subplots.AxesSubplot at 0x1259e5f10>"
      ]
     },
     "execution_count": 14,
     "metadata": {},
     "output_type": "execute_result"
    },
    {
     "data": {
      "image/png": "[encoded data removed]",
      "text/plain": [
       "<Figure size 432x288 with 1 Axes>"
      ]
     },
     "metadata": {
      "needs_background": "light"
     },
     "output_type": "display_data"
    }
   ],
   "source": [
    "xs = np.linspace(0.0, float(len(totals.index)), len(totals.index))\n",
    "ys = np.exp(m*xs + b)\n",
    "totals['fit'] = ys\n",
    "totals.plot()"
   ]
  },
  {
   "cell_type": "markdown",
   "metadata": {},
   "source": [
    "## With a log-scale for a linear relationship:"
   ]
  },
  {
   "cell_type": "code",
   "execution_count": 15,
   "metadata": {},
   "outputs": [
    {
     "data": {
      "text/plain": [
       "<matplotlib.axes._subplots.AxesSubplot at 0x125b15fd0>"
      ]
     },
     "execution_count": 15,
     "metadata": {},
     "output_type": "execute_result"
    },
    {
     "data": {
      "image/png": "[encoded data removed]",
      "text/plain": [
       "<Figure size 432x288 with 1 Axes>"
      ]
     },
     "metadata": {
      "needs_background": "light"
     },
     "output_type": "display_data"
    }
   ],
   "source": [
    "totals.plot(logy=True)"
   ]
  },
  {
   "cell_type": "markdown",
   "metadata": {},
   "source": [
    "# Projections:\n",
    "\n",
    "### Note: These projections are only estimations, and represent my opinions and mine alone. \n",
    "\n",
    "For Official Coronavirus information please visit https://www.who.int/emergencies/diseases/novel-coronavirus-2019/situation-reports/"
   ]
  },
  {
   "cell_type": "markdown",
   "metadata": {},
   "source": [
    "### We use a logistic growth model to calculate our projections\n",
    "Unlike exponential growth, logistic growth tapers off over time:\n",
    "![title](assets/logistic_growth.png)"
   ]
  },
  {
   "cell_type": "code",
   "execution_count": 16,
   "metadata": {},
   "outputs": [],
   "source": [
    "# Plot results with predictions for seven days into the future\n",
    "num_pred_days = 7"
   ]
  },
  {
   "cell_type": "code",
   "execution_count": 17,
   "metadata": {
    "scrolled": false
   },
   "outputs": [
    {
     "data": {
      "text/plain": [
       "<matplotlib.legend.Legend at 0x125d13550>"
      ]
     },
     "execution_count": 17,
     "metadata": {},
     "output_type": "execute_result"
    },
    {
     "data": {
      "image/png": "[encoded data removed]",
      "text/plain": [
       "<Figure size 432x288 with 1 Axes>"
      ]
     },
     "metadata": {
      "needs_background": "light"
     },
     "output_type": "display_data"
    }
   ],
   "source": [
    "def logistic4(x, A, B, C, D):\n",
    "    \"\"\"4PL lgoistic equation.\"\"\"\n",
    "    return ((A-D)/(1.0+((x/C)**B))) + D\n",
    "\n",
    "def residuals(p, y, x):\n",
    "    \"\"\"Deviations of data from fitted 4PL curve\"\"\"\n",
    "    A,B,C,D = p\n",
    "    err = y-logistic4(x, A, B, C, D)\n",
    "    return err\n",
    "\n",
    "def peval(x, p):\n",
    "    \"\"\"Evaluated value at x with current parameters.\"\"\"\n",
    "    A,B,C,D = p\n",
    "    return logistic4(x, A, B, C, D)\n",
    "\n",
    "\n",
    "x = np.array(range(len(totals.index)))\n",
    "y_meas = totals['Confirmed Cases'].astype(float)\n",
    "\n",
    "# Initial guess for parameters\n",
    "p0 = [0, 1, 1, 1]\n",
    "\n",
    "# Fit equation using least squares optimization\n",
    "plsq = leastsq(residuals, p0, args=(y_meas, x))\n",
    "\n",
    "x_hat = np.array(range(len(totals.index) + num_pred_days))\n",
    "plt.plot(x_hat,peval(x_hat,plsq[0]),x,y_meas,'o')\n",
    "plt.title('Title')\n",
    "plt.legend(['Proj', 'Actual'], loc='upper left')"
   ]
  },
  {
   "cell_type": "markdown",
   "metadata": {},
   "source": [
    " ^^ The model does not yet believe we will see the increase in number of cases tapering off. ^^"
   ]
  },
  {
   "cell_type": "markdown",
   "metadata": {},
   "source": [
    "### Projections in numbers:"
   ]
  },
  {
   "cell_type": "code",
   "execution_count": 18,
   "metadata": {
    "scrolled": false
   },
   "outputs": [
    {
     "data": {
      "text/html": [
       "<div>\n",
       "<style scoped>\n",
       "    .dataframe tbody tr th:only-of-type {\n",
       "        vertical-align: middle;\n",
       "    }\n",
       "\n",
       "    .dataframe tbody tr th {\n",
       "        vertical-align: top;\n",
       "    }\n",
       "\n",
       "    .dataframe thead th {\n",
       "        text-align: right;\n",
       "    }\n",
       "</style>\n",
       "<table border=\"1\" class=\"dataframe\">\n",
       "  <thead>\n",
       "    <tr style=\"text-align: right;\">\n",
       "      <th></th>\n",
       "      <th>Proj</th>\n",
       "      <th>Actual</th>\n",
       "      <th>Proj Growth</th>\n",
       "      <th>Actual Growth</th>\n",
       "      <th>Actual / Proj Diff</th>\n",
       "      <th>Actual / Proj Growth Diff</th>\n",
       "    </tr>\n",
       "  </thead>\n",
       "  <tbody>\n",
       "    <tr>\n",
       "      <th>2020-02-23</th>\n",
       "      <td>23.370921</td>\n",
       "      <td>15</td>\n",
       "      <td>0.000000</td>\n",
       "      <td>0</td>\n",
       "      <td>-8.37092</td>\n",
       "      <td>0</td>\n",
       "    </tr>\n",
       "    <tr>\n",
       "      <th>2020-02-24</th>\n",
       "      <td>23.371089</td>\n",
       "      <td>15</td>\n",
       "      <td>0.000168</td>\n",
       "      <td>0</td>\n",
       "      <td>-8.37109</td>\n",
       "      <td>-0.000167879</td>\n",
       "    </tr>\n",
       "    <tr>\n",
       "      <th>2020-02-25</th>\n",
       "      <td>23.379055</td>\n",
       "      <td>15</td>\n",
       "      <td>0.007966</td>\n",
       "      <td>0</td>\n",
       "      <td>-8.37906</td>\n",
       "      <td>-0.00796607</td>\n",
       "    </tr>\n",
       "    <tr>\n",
       "      <th>2020-02-26</th>\n",
       "      <td>23.449651</td>\n",
       "      <td>15</td>\n",
       "      <td>0.070596</td>\n",
       "      <td>0</td>\n",
       "      <td>-8.44965</td>\n",
       "      <td>-0.0705961</td>\n",
       "    </tr>\n",
       "    <tr>\n",
       "      <th>2020-02-27</th>\n",
       "      <td>23.765014</td>\n",
       "      <td>16</td>\n",
       "      <td>0.315363</td>\n",
       "      <td>1</td>\n",
       "      <td>-7.76501</td>\n",
       "      <td>0.684637</td>\n",
       "    </tr>\n",
       "    <tr>\n",
       "      <th>2020-02-28</th>\n",
       "      <td>24.745360</td>\n",
       "      <td>16</td>\n",
       "      <td>0.980346</td>\n",
       "      <td>0</td>\n",
       "      <td>-8.74536</td>\n",
       "      <td>-0.980346</td>\n",
       "    </tr>\n",
       "    <tr>\n",
       "      <th>2020-02-29</th>\n",
       "      <td>27.184799</td>\n",
       "      <td>24</td>\n",
       "      <td>2.439439</td>\n",
       "      <td>8</td>\n",
       "      <td>-3.1848</td>\n",
       "      <td>5.56056</td>\n",
       "    </tr>\n",
       "    <tr>\n",
       "      <th>2020-03-01</th>\n",
       "      <td>32.408544</td>\n",
       "      <td>30</td>\n",
       "      <td>5.223745</td>\n",
       "      <td>6</td>\n",
       "      <td>-2.40854</td>\n",
       "      <td>0.776255</td>\n",
       "    </tr>\n",
       "    <tr>\n",
       "      <th>2020-03-02</th>\n",
       "      <td>42.447700</td>\n",
       "      <td>53</td>\n",
       "      <td>10.039156</td>\n",
       "      <td>23</td>\n",
       "      <td>10.5523</td>\n",
       "      <td>12.9608</td>\n",
       "    </tr>\n",
       "    <tr>\n",
       "      <th>2020-03-03</th>\n",
       "      <td>60.226182</td>\n",
       "      <td>73</td>\n",
       "      <td>17.778481</td>\n",
       "      <td>20</td>\n",
       "      <td>12.7738</td>\n",
       "      <td>2.22152</td>\n",
       "    </tr>\n",
       "    <tr>\n",
       "      <th>2020-03-04</th>\n",
       "      <td>89.750944</td>\n",
       "      <td>104</td>\n",
       "      <td>29.524762</td>\n",
       "      <td>31</td>\n",
       "      <td>14.2491</td>\n",
       "      <td>1.47524</td>\n",
       "    </tr>\n",
       "    <tr>\n",
       "      <th>2020-03-05</th>\n",
       "      <td>136.291195</td>\n",
       "      <td>172</td>\n",
       "      <td>46.540251</td>\n",
       "      <td>68</td>\n",
       "      <td>35.7088</td>\n",
       "      <td>21.4597</td>\n",
       "    </tr>\n",
       "    <tr>\n",
       "      <th>2020-03-06</th>\n",
       "      <td>206.524287</td>\n",
       "      <td>217</td>\n",
       "      <td>70.233091</td>\n",
       "      <td>45</td>\n",
       "      <td>10.4757</td>\n",
       "      <td>-25.2331</td>\n",
       "    </tr>\n",
       "    <tr>\n",
       "      <th>2020-03-07</th>\n",
       "      <td>308.615696</td>\n",
       "      <td>336</td>\n",
       "      <td>102.091410</td>\n",
       "      <td>119</td>\n",
       "      <td>27.3843</td>\n",
       "      <td>16.9086</td>\n",
       "    </tr>\n",
       "    <tr>\n",
       "      <th>2020-03-08</th>\n",
       "      <td>452.188963</td>\n",
       "      <td>452</td>\n",
       "      <td>143.573266</td>\n",
       "      <td>116</td>\n",
       "      <td>-0.188963</td>\n",
       "      <td>-27.5733</td>\n",
       "    </tr>\n",
       "    <tr>\n",
       "      <th>2020-03-09</th>\n",
       "      <td>648.131203</td>\n",
       "      <td>517</td>\n",
       "      <td>195.942241</td>\n",
       "      <td>65</td>\n",
       "      <td>-131.131</td>\n",
       "      <td>-130.942</td>\n",
       "    </tr>\n",
       "    <tr>\n",
       "      <th>2020-03-10</th>\n",
       "      <td>908.175757</td>\n",
       "      <td>959</td>\n",
       "      <td>260.044554</td>\n",
       "      <td>442</td>\n",
       "      <td>50.8242</td>\n",
       "      <td>181.955</td>\n",
       "    </tr>\n",
       "    <tr>\n",
       "      <th>2020-03-11</th>\n",
       "      <td>1244.212386</td>\n",
       "      <td>1281</td>\n",
       "      <td>336.036629</td>\n",
       "      <td>322</td>\n",
       "      <td>36.7876</td>\n",
       "      <td>-14.0366</td>\n",
       "    </tr>\n",
       "    <tr>\n",
       "      <th>2020-03-12</th>\n",
       "      <td>1667.305330</td>\n",
       "      <td>1663</td>\n",
       "      <td>423.092944</td>\n",
       "      <td>382</td>\n",
       "      <td>-4.30533</td>\n",
       "      <td>-41.0929</td>\n",
       "    </tr>\n",
       "    <tr>\n",
       "      <th>2020-03-13</th>\n",
       "      <td>2186.455740</td>\n",
       "      <td>2179</td>\n",
       "      <td>519.150410</td>\n",
       "      <td>516</td>\n",
       "      <td>-7.45574</td>\n",
       "      <td>-3.15041</td>\n",
       "    </tr>\n",
       "    <tr>\n",
       "      <th>2020-03-14</th>\n",
       "      <td>2807.225229</td>\n",
       "      <td>TBD</td>\n",
       "      <td>620.769489</td>\n",
       "      <td>TBD</td>\n",
       "      <td>TBD</td>\n",
       "      <td>TBD</td>\n",
       "    </tr>\n",
       "    <tr>\n",
       "      <th>2020-03-15</th>\n",
       "      <td>3530.425371</td>\n",
       "      <td>TBD</td>\n",
       "      <td>723.200142</td>\n",
       "      <td>TBD</td>\n",
       "      <td>TBD</td>\n",
       "      <td>TBD</td>\n",
       "    </tr>\n",
       "    <tr>\n",
       "      <th>2020-03-16</th>\n",
       "      <td>4351.142651</td>\n",
       "      <td>TBD</td>\n",
       "      <td>820.717280</td>\n",
       "      <td>TBD</td>\n",
       "      <td>TBD</td>\n",
       "      <td>TBD</td>\n",
       "    </tr>\n",
       "    <tr>\n",
       "      <th>2020-03-17</th>\n",
       "      <td>5258.371182</td>\n",
       "      <td>TBD</td>\n",
       "      <td>907.228532</td>\n",
       "      <td>TBD</td>\n",
       "      <td>TBD</td>\n",
       "      <td>TBD</td>\n",
       "    </tr>\n",
       "    <tr>\n",
       "      <th>2020-03-18</th>\n",
       "      <td>6235.439746</td>\n",
       "      <td>TBD</td>\n",
       "      <td>977.068564</td>\n",
       "      <td>TBD</td>\n",
       "      <td>TBD</td>\n",
       "      <td>TBD</td>\n",
       "    </tr>\n",
       "    <tr>\n",
       "      <th>2020-03-19</th>\n",
       "      <td>7261.252059</td>\n",
       "      <td>TBD</td>\n",
       "      <td>1025.812312</td>\n",
       "      <td>TBD</td>\n",
       "      <td>TBD</td>\n",
       "      <td>TBD</td>\n",
       "    </tr>\n",
       "    <tr>\n",
       "      <th>2020-03-20</th>\n",
       "      <td>8312.158508</td>\n",
       "      <td>TBD</td>\n",
       "      <td>1050.906449</td>\n",
       "      <td>TBD</td>\n",
       "      <td>TBD</td>\n",
       "      <td>TBD</td>\n",
       "    </tr>\n",
       "  </tbody>\n",
       "</table>\n",
       "</div>"
      ],
      "text/plain": [
       "                   Proj Actual  Proj Growth Actual Growth Actual / Proj Diff  \\\n",
       "2020-02-23    23.370921     15     0.000000             0           -8.37092   \n",
       "2020-02-24    23.371089     15     0.000168             0           -8.37109   \n",
       "2020-02-25    23.379055     15     0.007966             0           -8.37906   \n",
       "2020-02-26    23.449651     15     0.070596             0           -8.44965   \n",
       "2020-02-27    23.765014     16     0.315363             1           -7.76501   \n",
       "2020-02-28    24.745360     16     0.980346             0           -8.74536   \n",
       "2020-02-29    27.184799     24     2.439439             8            -3.1848   \n",
       "2020-03-01    32.408544     30     5.223745             6           -2.40854   \n",
       "2020-03-02    42.447700     53    10.039156            23            10.5523   \n",
       "2020-03-03    60.226182     73    17.778481            20            12.7738   \n",
       "2020-03-04    89.750944    104    29.524762            31            14.2491   \n",
       "2020-03-05   136.291195    172    46.540251            68            35.7088   \n",
       "2020-03-06   206.524287    217    70.233091            45            10.4757   \n",
       "2020-03-07   308.615696    336   102.091410           119            27.3843   \n",
       "2020-03-08   452.188963    452   143.573266           116          -0.188963   \n",
       "2020-03-09   648.131203    517   195.942241            65           -131.131   \n",
       "2020-03-10   908.175757    959   260.044554           442            50.8242   \n",
       "2020-03-11  1244.212386   1281   336.036629           322            36.7876   \n",
       "2020-03-12  1667.305330   1663   423.092944           382           -4.30533   \n",
       "2020-03-13  2186.455740   2179   519.150410           516           -7.45574   \n",
       "2020-03-14  2807.225229    TBD   620.769489           TBD                TBD   \n",
       "2020-03-15  3530.425371    TBD   723.200142           TBD                TBD   \n",
       "2020-03-16  4351.142651    TBD   820.717280           TBD                TBD   \n",
       "2020-03-17  5258.371182    TBD   907.228532           TBD                TBD   \n",
       "2020-03-18  6235.439746    TBD   977.068564           TBD                TBD   \n",
       "2020-03-19  7261.252059    TBD  1025.812312           TBD                TBD   \n",
       "2020-03-20  8312.158508    TBD  1050.906449           TBD                TBD   \n",
       "\n",
       "           Actual / Proj Growth Diff  \n",
       "2020-02-23                         0  \n",
       "2020-02-24              -0.000167879  \n",
       "2020-02-25               -0.00796607  \n",
       "2020-02-26                -0.0705961  \n",
       "2020-02-27                  0.684637  \n",
       "2020-02-28                 -0.980346  \n",
       "2020-02-29                   5.56056  \n",
       "2020-03-01                  0.776255  \n",
       "2020-03-02                   12.9608  \n",
       "2020-03-03                   2.22152  \n",
       "2020-03-04                   1.47524  \n",
       "2020-03-05                   21.4597  \n",
       "2020-03-06                  -25.2331  \n",
       "2020-03-07                   16.9086  \n",
       "2020-03-08                  -27.5733  \n",
       "2020-03-09                  -130.942  \n",
       "2020-03-10                   181.955  \n",
       "2020-03-11                  -14.0366  \n",
       "2020-03-12                  -41.0929  \n",
       "2020-03-13                  -3.15041  \n",
       "2020-03-14                       TBD  \n",
       "2020-03-15                       TBD  \n",
       "2020-03-16                       TBD  \n",
       "2020-03-17                       TBD  \n",
       "2020-03-18                       TBD  \n",
       "2020-03-19                       TBD  \n",
       "2020-03-20                       TBD  "
      ]
     },
     "execution_count": 18,
     "metadata": {},
     "output_type": "execute_result"
    }
   ],
   "source": [
    "proj = pd.DataFrame(peval(x_hat,plsq[0]))\n",
    "proj['Actual'] = np.concatenate((np.array(y_meas), np.array([np.NaN for _ in range(num_pred_days)])), axis=0)\n",
    "proj.index = [datetime.date(2020,2,23) + datetime.timedelta(days=x) for x in range(len(x_hat))]\n",
    "proj.columns = ['Proj', 'Actual']\n",
    "proj['Proj Growth'] = [max(list(proj['Proj'])[idx] - list(proj['Proj'])[idx - 1], 0.0) for idx, _ in enumerate(list(proj['Proj']))]\n",
    "proj['Actual Growth'] = [max(y_meas[idx] - y_meas[idx - 1], 0.0) for idx, _ in enumerate(list(y_meas))] + [np.NaN for _ in range(num_pred_days)]\n",
    "proj['Actual / Proj Diff'] = proj['Actual'] - proj['Proj']\n",
    "proj['Actual / Proj Growth Diff'] = proj['Actual Growth'] - proj['Proj Growth']\n",
    "proj.astype(object).fillna(\"TBD\")"
   ]
  },
  {
   "cell_type": "code",
   "execution_count": 19,
   "metadata": {},
   "outputs": [
    {
     "name": "stdout",
     "output_type": "stream",
     "text": [
      "The model predicts 2807.0 confirmed cases by the end of today.\n",
      "The model predicts 8312.0 confirmed cases in a weeks time.\n"
     ]
    }
   ],
   "source": [
    "print(f\"The model predicts {round(proj['Proj'][datetime.date.today()])} confirmed cases by the end of today.\")\n",
    "print(f\"The model predicts {round(proj['Proj'][-1])} confirmed cases in a weeks time.\")"
   ]
  }
 ],
 "metadata": {
  "kernelspec": {
   "display_name": "Python 3",
   "language": "python",
   "name": "python3"
  },
  "language_info": {
   "codemirror_mode": {
    "name": "ipython",
    "version": 3
   },
   "file_extension": ".py",
   "mimetype": "text/x-python",
   "name": "python",
   "nbconvert_exporter": "python",
   "pygments_lexer": "ipython3",
   "version": "3.7.7"
  }
 },
 "nbformat": 4,
 "nbformat_minor": 4
}
