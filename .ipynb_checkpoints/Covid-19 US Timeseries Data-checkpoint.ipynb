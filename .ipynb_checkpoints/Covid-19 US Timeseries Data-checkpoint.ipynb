{
 "cells": [
  {
   "cell_type": "markdown",
   "metadata": {},
   "source": [
    "# Covid-19 United States Growth Modeling\n",
    "\n",
    "### Data Source:\n",
    "#### 2019 Novel Coronavirus Visual Dashboard operated by the Johns Hopkins University Center for Systems Science and Engineering\n",
    "\n",
    "Link: https://github.com/CSSEGISandData/COVID-19/blob/master/csse_covid_19_data/csse_covid_19_time_series/time_series_19-covid-Confirmed.csv"
   ]
  },
  {
   "cell_type": "code",
   "execution_count": 1,
   "metadata": {},
   "outputs": [],
   "source": [
    "from matplotlib import pyplot as plt\n",
    "import numpy as np\n",
    "import numpy.random as npr\n",
    "import pandas as pd\n",
    "from scipy.optimize import leastsq\n",
    "\n",
    "import datetime\n",
    "import warnings\n",
    "\n",
    "from lib import get_or_update_source_data\n",
    "\n",
    "warnings.filterwarnings('ignore')"
   ]
  },
  {
   "cell_type": "code",
   "execution_count": 2,
   "metadata": {},
   "outputs": [
    {
     "name": "stdout",
     "output_type": "stream",
     "text": [
      "Updating source data\n"
     ]
    }
   ],
   "source": [
    "get_or_update_source_data()"
   ]
  },
  {
   "cell_type": "code",
   "execution_count": 3,
   "metadata": {},
   "outputs": [],
   "source": [
    "df = pd.read_csv('COVID-19/csse_covid_19_data/csse_covid_19_time_series/time_series_19-covid-Confirmed.csv') "
   ]
  },
  {
   "cell_type": "markdown",
   "metadata": {},
   "source": [
    "## Report Update Information:"
   ]
  },
  {
   "cell_type": "code",
   "execution_count": 4,
   "metadata": {
    "scrolled": true
   },
   "outputs": [
    {
     "name": "stdout",
     "output_type": "stream",
     "text": [
      "Report Generated On:\t\t03/14/20\n",
      "Data Source Updated On:\t\t3/14/20\n"
     ]
    }
   ],
   "source": [
    "print(f'Report Generated On:\\t\\t{datetime.datetime.now().strftime(\"%m/%d/%y\")}\\nData Source Updated On:\\t\\t{df.columns[-1]}')"
   ]
  },
  {
   "cell_type": "markdown",
   "metadata": {},
   "source": [
    "### On 3/10/20, data stopped being reported by county and began reporting at the state level:\n",
    "\n",
    "Source: https://github.com/CSSEGISandData/COVID-19/issues/382"
   ]
  },
  {
   "cell_type": "code",
   "execution_count": 5,
   "metadata": {
    "scrolled": true
   },
   "outputs": [],
   "source": [
    "us_states_by_county = df[(df[\"Country/Region\"]=='US') & (df[\"Province/State\"].str.contains(','))]"
   ]
  },
  {
   "cell_type": "code",
   "execution_count": 6,
   "metadata": {
    "scrolled": true
   },
   "outputs": [],
   "source": [
    "us_states = df[(df[\"Country/Region\"]=='US') & (df[\"Province/State\"].str.contains(',').apply(lambda x: not x))]"
   ]
  },
  {
   "cell_type": "code",
   "execution_count": 7,
   "metadata": {
    "scrolled": true
   },
   "outputs": [],
   "source": [
    "states_sum_by_county = us_states_by_county.sum().to_frame().drop([\"Province/State\", \"Country/Region\", \"Lat\", \"Long\"])\n",
    "states_sum_by_county = states_sum_by_county[(states_sum_by_county[0]!=0)]\n",
    "states_sum_by_county.columns = [\"Confirmed Cases\"]\n",
    "states_sum_by_county.index = [datetime.datetime.strptime(index, \"%m/%d/%y\") for index in states_sum_by_county.index]"
   ]
  },
  {
   "cell_type": "code",
   "execution_count": 8,
   "metadata": {},
   "outputs": [],
   "source": [
    "states_sum = us_states.sum().to_frame().drop([\"Province/State\", \"Country/Region\", \"Lat\", \"Long\"])\n",
    "states_sum = states_sum[(states_sum[0]!=0)]\n",
    "states_sum.columns = [\"Confirmed Cases\"]\n",
    "states_sum.index = [datetime.datetime.strptime(index, \"%m/%d/%y\") for index in states_sum.index]"
   ]
  },
  {
   "cell_type": "code",
   "execution_count": 9,
   "metadata": {},
   "outputs": [],
   "source": [
    "totals = pd.concat([states_sum_by_county.loc[:'2020-03-9'], states_sum.loc['2020-03-10':]], axis=0)"
   ]
  },
  {
   "cell_type": "markdown",
   "metadata": {},
   "source": [
    "# Data and Graphs:"
   ]
  },
  {
   "cell_type": "markdown",
   "metadata": {},
   "source": [
    "### Follows typical exponential growth starting around Feb 23rd:"
   ]
  },
  {
   "cell_type": "code",
   "execution_count": 10,
   "metadata": {},
   "outputs": [
    {
     "data": {
      "text/plain": [
       "<matplotlib.axes._subplots.AxesSubplot at 0x117f36e50>"
      ]
     },
     "execution_count": 10,
     "metadata": {},
     "output_type": "execute_result"
    },
    {
     "data": {
      "image/png": "[encoded data removed]",
      "text/plain": [
       "<Figure size 432x288 with 1 Axes>"
      ]
     },
     "metadata": {
      "needs_background": "light"
     },
     "output_type": "display_data"
    }
   ],
   "source": [
    "totals.plot()"
   ]
  },
  {
   "cell_type": "markdown",
   "metadata": {},
   "source": [
    "### Viewing growth from a log scale:"
   ]
  },
  {
   "cell_type": "code",
   "execution_count": 11,
   "metadata": {
    "scrolled": false
   },
   "outputs": [
    {
     "data": {
      "text/plain": [
       "<matplotlib.axes._subplots.AxesSubplot at 0x11a150410>"
      ]
     },
     "execution_count": 11,
     "metadata": {},
     "output_type": "execute_result"
    },
    {
     "data": {
      "image/png": "[encoded data removed]",
      "text/plain": [
       "<Figure size 432x288 with 1 Axes>"
      ]
     },
     "metadata": {
      "needs_background": "light"
     },
     "output_type": "display_data"
    }
   ],
   "source": [
    "totals.plot(logy=True)"
   ]
  },
  {
   "cell_type": "markdown",
   "metadata": {},
   "source": [
    "### Data in Numbers - US Confirmed Cases (From Feb 23rd):"
   ]
  },
  {
   "cell_type": "code",
   "execution_count": 12,
   "metadata": {},
   "outputs": [
    {
     "data": {
      "text/html": [
       "<div>\n",
       "<style scoped>\n",
       "    .dataframe tbody tr th:only-of-type {\n",
       "        vertical-align: middle;\n",
       "    }\n",
       "\n",
       "    .dataframe tbody tr th {\n",
       "        vertical-align: top;\n",
       "    }\n",
       "\n",
       "    .dataframe thead th {\n",
       "        text-align: right;\n",
       "    }\n",
       "</style>\n",
       "<table border=\"1\" class=\"dataframe\">\n",
       "  <thead>\n",
       "    <tr style=\"text-align: right;\">\n",
       "      <th></th>\n",
       "      <th>Confirmed Cases</th>\n",
       "    </tr>\n",
       "  </thead>\n",
       "  <tbody>\n",
       "    <tr>\n",
       "      <th>2020-02-23</th>\n",
       "      <td>15</td>\n",
       "    </tr>\n",
       "    <tr>\n",
       "      <th>2020-02-24</th>\n",
       "      <td>15</td>\n",
       "    </tr>\n",
       "    <tr>\n",
       "      <th>2020-02-25</th>\n",
       "      <td>15</td>\n",
       "    </tr>\n",
       "    <tr>\n",
       "      <th>2020-02-26</th>\n",
       "      <td>15</td>\n",
       "    </tr>\n",
       "    <tr>\n",
       "      <th>2020-02-27</th>\n",
       "      <td>16</td>\n",
       "    </tr>\n",
       "    <tr>\n",
       "      <th>2020-02-28</th>\n",
       "      <td>16</td>\n",
       "    </tr>\n",
       "    <tr>\n",
       "      <th>2020-02-29</th>\n",
       "      <td>24</td>\n",
       "    </tr>\n",
       "    <tr>\n",
       "      <th>2020-03-01</th>\n",
       "      <td>30</td>\n",
       "    </tr>\n",
       "    <tr>\n",
       "      <th>2020-03-02</th>\n",
       "      <td>53</td>\n",
       "    </tr>\n",
       "    <tr>\n",
       "      <th>2020-03-03</th>\n",
       "      <td>73</td>\n",
       "    </tr>\n",
       "    <tr>\n",
       "      <th>2020-03-04</th>\n",
       "      <td>104</td>\n",
       "    </tr>\n",
       "    <tr>\n",
       "      <th>2020-03-05</th>\n",
       "      <td>172</td>\n",
       "    </tr>\n",
       "    <tr>\n",
       "      <th>2020-03-06</th>\n",
       "      <td>217</td>\n",
       "    </tr>\n",
       "    <tr>\n",
       "      <th>2020-03-07</th>\n",
       "      <td>336</td>\n",
       "    </tr>\n",
       "    <tr>\n",
       "      <th>2020-03-08</th>\n",
       "      <td>452</td>\n",
       "    </tr>\n",
       "    <tr>\n",
       "      <th>2020-03-09</th>\n",
       "      <td>517</td>\n",
       "    </tr>\n",
       "    <tr>\n",
       "      <th>2020-03-10</th>\n",
       "      <td>959</td>\n",
       "    </tr>\n",
       "    <tr>\n",
       "      <th>2020-03-11</th>\n",
       "      <td>1281</td>\n",
       "    </tr>\n",
       "    <tr>\n",
       "      <th>2020-03-12</th>\n",
       "      <td>1663</td>\n",
       "    </tr>\n",
       "    <tr>\n",
       "      <th>2020-03-13</th>\n",
       "      <td>2179</td>\n",
       "    </tr>\n",
       "    <tr>\n",
       "      <th>2020-03-14</th>\n",
       "      <td>2726</td>\n",
       "    </tr>\n",
       "  </tbody>\n",
       "</table>\n",
       "</div>"
      ],
      "text/plain": [
       "           Confirmed Cases\n",
       "2020-02-23              15\n",
       "2020-02-24              15\n",
       "2020-02-25              15\n",
       "2020-02-26              15\n",
       "2020-02-27              16\n",
       "2020-02-28              16\n",
       "2020-02-29              24\n",
       "2020-03-01              30\n",
       "2020-03-02              53\n",
       "2020-03-03              73\n",
       "2020-03-04             104\n",
       "2020-03-05             172\n",
       "2020-03-06             217\n",
       "2020-03-07             336\n",
       "2020-03-08             452\n",
       "2020-03-09             517\n",
       "2020-03-10             959\n",
       "2020-03-11            1281\n",
       "2020-03-12            1663\n",
       "2020-03-13            2179\n",
       "2020-03-14            2726"
      ]
     },
     "execution_count": 12,
     "metadata": {},
     "output_type": "execute_result"
    }
   ],
   "source": [
    "totals = totals.loc['2020-02-23':]\n",
    "totals"
   ]
  },
  {
   "cell_type": "markdown",
   "metadata": {},
   "source": [
    "# Generating Lines of Best Fit:\n",
    "\n",
    "### We can see that fitting to the data seems to work pretty well"
   ]
  },
  {
   "cell_type": "code",
   "execution_count": 13,
   "metadata": {},
   "outputs": [],
   "source": [
    "m, b = np.polyfit(list(range(len(totals.index))), np.log(list(totals['Confirmed Cases'])), 1)"
   ]
  },
  {
   "cell_type": "code",
   "execution_count": 14,
   "metadata": {},
   "outputs": [
    {
     "data": {
      "text/plain": [
       "<matplotlib.axes._subplots.AxesSubplot at 0x11a2f7990>"
      ]
     },
     "execution_count": 14,
     "metadata": {},
     "output_type": "execute_result"
    },
    {
     "data": {
      "image/png": "[encoded data removed]",
      "text/plain": [
       "<Figure size 432x288 with 1 Axes>"
      ]
     },
     "metadata": {
      "needs_background": "light"
     },
     "output_type": "display_data"
    }
   ],
   "source": [
    "xs = np.linspace(0.0, float(len(totals.index)), len(totals.index))\n",
    "ys = np.exp(m*xs + b)\n",
    "totals['fit'] = ys\n",
    "totals.plot()"
   ]
  },
  {
   "cell_type": "markdown",
   "metadata": {},
   "source": [
    "## With a log-scale for a linear relationship:"
   ]
  },
  {
   "cell_type": "code",
   "execution_count": 15,
   "metadata": {},
   "outputs": [
    {
     "data": {
      "text/plain": [
       "<matplotlib.axes._subplots.AxesSubplot at 0x11a150250>"
      ]
     },
     "execution_count": 15,
     "metadata": {},
     "output_type": "execute_result"
    },
    {
     "data": {
      "image/png": "[encoded data removed]",
      "text/plain": [
       "<Figure size 432x288 with 1 Axes>"
      ]
     },
     "metadata": {
      "needs_background": "light"
     },
     "output_type": "display_data"
    }
   ],
   "source": [
    "totals.plot(logy=True)"
   ]
  },
  {
   "cell_type": "markdown",
   "metadata": {},
   "source": [
    "# Projections:\n",
    "\n",
    "### Note: These projections are only estimations, and represent my opinions and mine alone. \n",
    "\n",
    "For Official Coronavirus information please visit https://www.who.int/emergencies/diseases/novel-coronavirus-2019/situation-reports/"
   ]
  },
  {
   "cell_type": "markdown",
   "metadata": {},
   "source": [
    "### We use a logistic growth model to calculate our projections\n",
    "Unlike exponential growth, logistic growth tapers off over time:\n",
    "![title](assets/logistic_growth.png)"
   ]
  },
  {
   "cell_type": "code",
   "execution_count": 16,
   "metadata": {},
   "outputs": [],
   "source": [
    "# Plot results with predictions for ten days into the future\n",
    "num_pred_days = 10"
   ]
  },
  {
   "cell_type": "code",
   "execution_count": 17,
   "metadata": {
    "scrolled": false
   },
   "outputs": [
    {
     "data": {
      "text/plain": [
       "<matplotlib.legend.Legend at 0x11a713490>"
      ]
     },
     "execution_count": 17,
     "metadata": {},
     "output_type": "execute_result"
    },
    {
     "data": {
      "image/png": "[encoded data removed]",
      "text/plain": [
       "<Figure size 432x288 with 1 Axes>"
      ]
     },
     "metadata": {
      "needs_background": "light"
     },
     "output_type": "display_data"
    }
   ],
   "source": [
    "def logistic4(x, A, B, C, D):\n",
    "    \"\"\"4PL lgoistic equation.\"\"\"\n",
    "    return ((A-D)/(1.0+((x/C)**B))) + D\n",
    "\n",
    "def residuals(p, y, x):\n",
    "    \"\"\"Deviations of data from fitted 4PL curve\"\"\"\n",
    "    A,B,C,D = p\n",
    "    err = y-logistic4(x, A, B, C, D)\n",
    "    return err\n",
    "\n",
    "def peval(x, p):\n",
    "    \"\"\"Evaluated value at x with current parameters.\"\"\"\n",
    "    A,B,C,D = p\n",
    "    return logistic4(x, A, B, C, D)\n",
    "\n",
    "\n",
    "x = np.array(range(len(totals.index)))\n",
    "y_meas = totals['Confirmed Cases'].astype(float)\n",
    "\n",
    "# Initial guess for parameters\n",
    "p0 = [0, 1, 1, 1]\n",
    "\n",
    "# Fit equation using least squares optimization\n",
    "plsq = leastsq(residuals, p0, args=(y_meas, x))\n",
    "\n",
    "x_hat = np.array(range(len(totals.index) + num_pred_days))\n",
    "plt.plot(x_hat,peval(x_hat,plsq[0]),x,y_meas,'o')\n",
    "plt.title('Title')\n",
    "plt.legend(['Proj', 'Actual'], loc='upper left')"
   ]
  },
  {
   "cell_type": "markdown",
   "metadata": {},
   "source": [
    "### Projections in numbers:"
   ]
  },
  {
   "cell_type": "code",
   "execution_count": 18,
   "metadata": {
    "scrolled": false
   },
   "outputs": [
    {
     "data": {
      "text/html": [
       "<div>\n",
       "<style scoped>\n",
       "    .dataframe tbody tr th:only-of-type {\n",
       "        vertical-align: middle;\n",
       "    }\n",
       "\n",
       "    .dataframe tbody tr th {\n",
       "        vertical-align: top;\n",
       "    }\n",
       "\n",
       "    .dataframe thead th {\n",
       "        text-align: right;\n",
       "    }\n",
       "</style>\n",
       "<table border=\"1\" class=\"dataframe\">\n",
       "  <thead>\n",
       "    <tr style=\"text-align: right;\">\n",
       "      <th></th>\n",
       "      <th>Proj</th>\n",
       "      <th>Actual</th>\n",
       "      <th>Proj Growth</th>\n",
       "      <th>Actual Growth</th>\n",
       "      <th>Actual / Proj Diff</th>\n",
       "      <th>Actual / Proj Growth Diff</th>\n",
       "    </tr>\n",
       "  </thead>\n",
       "  <tbody>\n",
       "    <tr>\n",
       "      <th>2020-02-23</th>\n",
       "      <td>25.672879</td>\n",
       "      <td>15</td>\n",
       "      <td>0.000000</td>\n",
       "      <td>0</td>\n",
       "      <td>-10.6729</td>\n",
       "      <td>0</td>\n",
       "    </tr>\n",
       "    <tr>\n",
       "      <th>2020-02-24</th>\n",
       "      <td>25.672959</td>\n",
       "      <td>15</td>\n",
       "      <td>0.000080</td>\n",
       "      <td>0</td>\n",
       "      <td>-10.673</td>\n",
       "      <td>-7.96913e-05</td>\n",
       "    </tr>\n",
       "    <tr>\n",
       "      <th>2020-02-25</th>\n",
       "      <td>25.677582</td>\n",
       "      <td>15</td>\n",
       "      <td>0.004624</td>\n",
       "      <td>0</td>\n",
       "      <td>-10.6776</td>\n",
       "      <td>-0.00462357</td>\n",
       "    </tr>\n",
       "    <tr>\n",
       "      <th>2020-02-26</th>\n",
       "      <td>25.723972</td>\n",
       "      <td>15</td>\n",
       "      <td>0.046389</td>\n",
       "      <td>0</td>\n",
       "      <td>-10.724</td>\n",
       "      <td>-0.0463895</td>\n",
       "    </tr>\n",
       "    <tr>\n",
       "      <th>2020-02-27</th>\n",
       "      <td>25.950452</td>\n",
       "      <td>16</td>\n",
       "      <td>0.226480</td>\n",
       "      <td>1</td>\n",
       "      <td>-9.95045</td>\n",
       "      <td>0.77352</td>\n",
       "    </tr>\n",
       "    <tr>\n",
       "      <th>2020-02-28</th>\n",
       "      <td>26.704400</td>\n",
       "      <td>16</td>\n",
       "      <td>0.753948</td>\n",
       "      <td>0</td>\n",
       "      <td>-10.7044</td>\n",
       "      <td>-0.753948</td>\n",
       "    </tr>\n",
       "    <tr>\n",
       "      <th>2020-02-29</th>\n",
       "      <td>28.687486</td>\n",
       "      <td>24</td>\n",
       "      <td>1.983086</td>\n",
       "      <td>8</td>\n",
       "      <td>-4.68749</td>\n",
       "      <td>6.01691</td>\n",
       "    </tr>\n",
       "    <tr>\n",
       "      <th>2020-03-01</th>\n",
       "      <td>33.135814</td>\n",
       "      <td>30</td>\n",
       "      <td>4.448328</td>\n",
       "      <td>6</td>\n",
       "      <td>-3.13581</td>\n",
       "      <td>1.55167</td>\n",
       "    </tr>\n",
       "    <tr>\n",
       "      <th>2020-03-02</th>\n",
       "      <td>42.030902</td>\n",
       "      <td>53</td>\n",
       "      <td>8.895088</td>\n",
       "      <td>23</td>\n",
       "      <td>10.9691</td>\n",
       "      <td>14.1049</td>\n",
       "    </tr>\n",
       "    <tr>\n",
       "      <th>2020-03-03</th>\n",
       "      <td>58.333307</td>\n",
       "      <td>73</td>\n",
       "      <td>16.302404</td>\n",
       "      <td>20</td>\n",
       "      <td>14.6667</td>\n",
       "      <td>3.6976</td>\n",
       "    </tr>\n",
       "    <tr>\n",
       "      <th>2020-03-04</th>\n",
       "      <td>86.222767</td>\n",
       "      <td>104</td>\n",
       "      <td>27.889460</td>\n",
       "      <td>31</td>\n",
       "      <td>17.7772</td>\n",
       "      <td>3.11054</td>\n",
       "    </tr>\n",
       "    <tr>\n",
       "      <th>2020-03-05</th>\n",
       "      <td>131.315495</td>\n",
       "      <td>172</td>\n",
       "      <td>45.092727</td>\n",
       "      <td>68</td>\n",
       "      <td>40.6845</td>\n",
       "      <td>22.9073</td>\n",
       "    </tr>\n",
       "    <tr>\n",
       "      <th>2020-03-06</th>\n",
       "      <td>200.809758</td>\n",
       "      <td>217</td>\n",
       "      <td>69.494264</td>\n",
       "      <td>45</td>\n",
       "      <td>16.1902</td>\n",
       "      <td>-24.4943</td>\n",
       "    </tr>\n",
       "    <tr>\n",
       "      <th>2020-03-07</th>\n",
       "      <td>303.486323</td>\n",
       "      <td>336</td>\n",
       "      <td>102.676565</td>\n",
       "      <td>119</td>\n",
       "      <td>32.5137</td>\n",
       "      <td>16.3234</td>\n",
       "    </tr>\n",
       "    <tr>\n",
       "      <th>2020-03-08</th>\n",
       "      <td>449.466083</td>\n",
       "      <td>452</td>\n",
       "      <td>145.979760</td>\n",
       "      <td>116</td>\n",
       "      <td>2.53392</td>\n",
       "      <td>-29.9798</td>\n",
       "    </tr>\n",
       "    <tr>\n",
       "      <th>2020-03-09</th>\n",
       "      <td>649.616077</td>\n",
       "      <td>517</td>\n",
       "      <td>200.149994</td>\n",
       "      <td>65</td>\n",
       "      <td>-132.616</td>\n",
       "      <td>-135.15</td>\n",
       "    </tr>\n",
       "    <tr>\n",
       "      <th>2020-03-10</th>\n",
       "      <td>914.517729</td>\n",
       "      <td>959</td>\n",
       "      <td>264.901653</td>\n",
       "      <td>442</td>\n",
       "      <td>44.4823</td>\n",
       "      <td>177.098</td>\n",
       "    </tr>\n",
       "    <tr>\n",
       "      <th>2020-03-11</th>\n",
       "      <td>1252.991657</td>\n",
       "      <td>1281</td>\n",
       "      <td>338.473928</td>\n",
       "      <td>322</td>\n",
       "      <td>28.0083</td>\n",
       "      <td>-16.4739</td>\n",
       "    </tr>\n",
       "    <tr>\n",
       "      <th>2020-03-12</th>\n",
       "      <td>1670.323142</td>\n",
       "      <td>1663</td>\n",
       "      <td>417.331485</td>\n",
       "      <td>382</td>\n",
       "      <td>-7.32314</td>\n",
       "      <td>-35.3315</td>\n",
       "    </tr>\n",
       "    <tr>\n",
       "      <th>2020-03-13</th>\n",
       "      <td>2166.525654</td>\n",
       "      <td>2179</td>\n",
       "      <td>496.202513</td>\n",
       "      <td>516</td>\n",
       "      <td>12.4743</td>\n",
       "      <td>19.7975</td>\n",
       "    </tr>\n",
       "    <tr>\n",
       "      <th>2020-03-14</th>\n",
       "      <td>2735.135691</td>\n",
       "      <td>2726</td>\n",
       "      <td>568.610037</td>\n",
       "      <td>547</td>\n",
       "      <td>-9.13569</td>\n",
       "      <td>-21.61</td>\n",
       "    </tr>\n",
       "    <tr>\n",
       "      <th>2020-03-15</th>\n",
       "      <td>3363.034328</td>\n",
       "      <td>TBD</td>\n",
       "      <td>627.898637</td>\n",
       "      <td>TBD</td>\n",
       "      <td>TBD</td>\n",
       "      <td>TBD</td>\n",
       "    </tr>\n",
       "    <tr>\n",
       "      <th>2020-03-16</th>\n",
       "      <td>4031.561150</td>\n",
       "      <td>TBD</td>\n",
       "      <td>668.526822</td>\n",
       "      <td>TBD</td>\n",
       "      <td>TBD</td>\n",
       "      <td>TBD</td>\n",
       "    </tr>\n",
       "    <tr>\n",
       "      <th>2020-03-17</th>\n",
       "      <td>4718.772864</td>\n",
       "      <td>TBD</td>\n",
       "      <td>687.211713</td>\n",
       "      <td>TBD</td>\n",
       "      <td>TBD</td>\n",
       "      <td>TBD</td>\n",
       "    </tr>\n",
       "    <tr>\n",
       "      <th>2020-03-18</th>\n",
       "      <td>5402.290448</td>\n",
       "      <td>TBD</td>\n",
       "      <td>683.517585</td>\n",
       "      <td>TBD</td>\n",
       "      <td>TBD</td>\n",
       "      <td>TBD</td>\n",
       "    </tr>\n",
       "    <tr>\n",
       "      <th>2020-03-19</th>\n",
       "      <td>6061.993029</td>\n",
       "      <td>TBD</td>\n",
       "      <td>659.702581</td>\n",
       "      <td>TBD</td>\n",
       "      <td>TBD</td>\n",
       "      <td>TBD</td>\n",
       "    </tr>\n",
       "    <tr>\n",
       "      <th>2020-03-20</th>\n",
       "      <td>6681.942977</td>\n",
       "      <td>TBD</td>\n",
       "      <td>619.949948</td>\n",
       "      <td>TBD</td>\n",
       "      <td>TBD</td>\n",
       "      <td>TBD</td>\n",
       "    </tr>\n",
       "    <tr>\n",
       "      <th>2020-03-21</th>\n",
       "      <td>7251.266596</td>\n",
       "      <td>TBD</td>\n",
       "      <td>569.323619</td>\n",
       "      <td>TBD</td>\n",
       "      <td>TBD</td>\n",
       "      <td>TBD</td>\n",
       "    </tr>\n",
       "    <tr>\n",
       "      <th>2020-03-22</th>\n",
       "      <td>7764.071793</td>\n",
       "      <td>TBD</td>\n",
       "      <td>512.805198</td>\n",
       "      <td>TBD</td>\n",
       "      <td>TBD</td>\n",
       "      <td>TBD</td>\n",
       "    </tr>\n",
       "    <tr>\n",
       "      <th>2020-03-23</th>\n",
       "      <td>8218.706267</td>\n",
       "      <td>TBD</td>\n",
       "      <td>454.634474</td>\n",
       "      <td>TBD</td>\n",
       "      <td>TBD</td>\n",
       "      <td>TBD</td>\n",
       "    </tr>\n",
       "    <tr>\n",
       "      <th>2020-03-24</th>\n",
       "      <td>8616.709935</td>\n",
       "      <td>TBD</td>\n",
       "      <td>398.003668</td>\n",
       "      <td>TBD</td>\n",
       "      <td>TBD</td>\n",
       "      <td>TBD</td>\n",
       "    </tr>\n",
       "  </tbody>\n",
       "</table>\n",
       "</div>"
      ],
      "text/plain": [
       "                   Proj Actual  Proj Growth Actual Growth Actual / Proj Diff  \\\n",
       "2020-02-23    25.672879     15     0.000000             0           -10.6729   \n",
       "2020-02-24    25.672959     15     0.000080             0            -10.673   \n",
       "2020-02-25    25.677582     15     0.004624             0           -10.6776   \n",
       "2020-02-26    25.723972     15     0.046389             0            -10.724   \n",
       "2020-02-27    25.950452     16     0.226480             1           -9.95045   \n",
       "2020-02-28    26.704400     16     0.753948             0           -10.7044   \n",
       "2020-02-29    28.687486     24     1.983086             8           -4.68749   \n",
       "2020-03-01    33.135814     30     4.448328             6           -3.13581   \n",
       "2020-03-02    42.030902     53     8.895088            23            10.9691   \n",
       "2020-03-03    58.333307     73    16.302404            20            14.6667   \n",
       "2020-03-04    86.222767    104    27.889460            31            17.7772   \n",
       "2020-03-05   131.315495    172    45.092727            68            40.6845   \n",
       "2020-03-06   200.809758    217    69.494264            45            16.1902   \n",
       "2020-03-07   303.486323    336   102.676565           119            32.5137   \n",
       "2020-03-08   449.466083    452   145.979760           116            2.53392   \n",
       "2020-03-09   649.616077    517   200.149994            65           -132.616   \n",
       "2020-03-10   914.517729    959   264.901653           442            44.4823   \n",
       "2020-03-11  1252.991657   1281   338.473928           322            28.0083   \n",
       "2020-03-12  1670.323142   1663   417.331485           382           -7.32314   \n",
       "2020-03-13  2166.525654   2179   496.202513           516            12.4743   \n",
       "2020-03-14  2735.135691   2726   568.610037           547           -9.13569   \n",
       "2020-03-15  3363.034328    TBD   627.898637           TBD                TBD   \n",
       "2020-03-16  4031.561150    TBD   668.526822           TBD                TBD   \n",
       "2020-03-17  4718.772864    TBD   687.211713           TBD                TBD   \n",
       "2020-03-18  5402.290448    TBD   683.517585           TBD                TBD   \n",
       "2020-03-19  6061.993029    TBD   659.702581           TBD                TBD   \n",
       "2020-03-20  6681.942977    TBD   619.949948           TBD                TBD   \n",
       "2020-03-21  7251.266596    TBD   569.323619           TBD                TBD   \n",
       "2020-03-22  7764.071793    TBD   512.805198           TBD                TBD   \n",
       "2020-03-23  8218.706267    TBD   454.634474           TBD                TBD   \n",
       "2020-03-24  8616.709935    TBD   398.003668           TBD                TBD   \n",
       "\n",
       "           Actual / Proj Growth Diff  \n",
       "2020-02-23                         0  \n",
       "2020-02-24              -7.96913e-05  \n",
       "2020-02-25               -0.00462357  \n",
       "2020-02-26                -0.0463895  \n",
       "2020-02-27                   0.77352  \n",
       "2020-02-28                 -0.753948  \n",
       "2020-02-29                   6.01691  \n",
       "2020-03-01                   1.55167  \n",
       "2020-03-02                   14.1049  \n",
       "2020-03-03                    3.6976  \n",
       "2020-03-04                   3.11054  \n",
       "2020-03-05                   22.9073  \n",
       "2020-03-06                  -24.4943  \n",
       "2020-03-07                   16.3234  \n",
       "2020-03-08                  -29.9798  \n",
       "2020-03-09                   -135.15  \n",
       "2020-03-10                   177.098  \n",
       "2020-03-11                  -16.4739  \n",
       "2020-03-12                  -35.3315  \n",
       "2020-03-13                   19.7975  \n",
       "2020-03-14                    -21.61  \n",
       "2020-03-15                       TBD  \n",
       "2020-03-16                       TBD  \n",
       "2020-03-17                       TBD  \n",
       "2020-03-18                       TBD  \n",
       "2020-03-19                       TBD  \n",
       "2020-03-20                       TBD  \n",
       "2020-03-21                       TBD  \n",
       "2020-03-22                       TBD  \n",
       "2020-03-23                       TBD  \n",
       "2020-03-24                       TBD  "
      ]
     },
     "execution_count": 18,
     "metadata": {},
     "output_type": "execute_result"
    }
   ],
   "source": [
    "proj = pd.DataFrame(peval(x_hat,plsq[0]))\n",
    "proj['Actual'] = np.concatenate((np.array(y_meas), np.array([np.NaN for _ in range(num_pred_days)])), axis=0)\n",
    "proj.index = [datetime.date(2020,2,23) + datetime.timedelta(days=x) for x in range(len(x_hat))]\n",
    "proj.columns = ['Proj', 'Actual']\n",
    "proj['Proj Growth'] = [max(list(proj['Proj'])[idx] - list(proj['Proj'])[idx - 1], 0.0) for idx, _ in enumerate(list(proj['Proj']))]\n",
    "proj['Actual Growth'] = [max(y_meas[idx] - y_meas[idx - 1], 0.0) for idx, _ in enumerate(list(y_meas))] + [np.NaN for _ in range(num_pred_days)]\n",
    "proj['Actual / Proj Diff'] = proj['Actual'] - proj['Proj']\n",
    "proj['Actual / Proj Growth Diff'] = proj['Actual Growth'] - proj['Proj Growth']\n",
    "proj.astype(object).fillna(\"TBD\")"
   ]
  },
  {
   "cell_type": "code",
   "execution_count": 19,
   "metadata": {},
   "outputs": [
    {
     "name": "stdout",
     "output_type": "stream",
     "text": [
      "The model predicts 2735.0 confirmed cases by the end of today.\n",
      "The model predicts 8617.0 confirmed cases in ten day's time.\n"
     ]
    }
   ],
   "source": [
    "print(f\"The model predicts {round(proj['Proj'][datetime.date.today()])} confirmed cases by the end of today.\")\n",
    "print(f\"The model predicts {round(proj['Proj'][-1])} confirmed cases in ten day's time.\")"
   ]
  }
 ],
 "metadata": {
  "kernelspec": {
   "display_name": "Python 3",
   "language": "python",
   "name": "python3"
  },
  "language_info": {
   "codemirror_mode": {
    "name": "ipython",
    "version": 3
   },
   "file_extension": ".py",
   "mimetype": "text/x-python",
   "name": "python",
   "nbconvert_exporter": "python",
   "pygments_lexer": "ipython3",
   "version": "3.7.7"
  }
 },
 "nbformat": 4,
 "nbformat_minor": 4
}
