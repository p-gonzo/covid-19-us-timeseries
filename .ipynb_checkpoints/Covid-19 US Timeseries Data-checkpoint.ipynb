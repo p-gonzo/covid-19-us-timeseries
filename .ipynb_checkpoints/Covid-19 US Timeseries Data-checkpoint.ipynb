{
 "cells": [
  {
   "cell_type": "markdown",
   "metadata": {},
   "source": [
    "# Covid-19 United States Growth Modeling\n",
    "\n",
    "### Data Source:\n",
    "#### 2019 Novel Coronavirus Visual Dashboard operated by the Johns Hopkins University Center for Systems Science and Engineering\n",
    "\n",
    "Link: https://github.com/CSSEGISandData/COVID-19/blob/master/csse_covid_19_data/csse_covid_19_time_series/time_series_19-covid-Confirmed.csv"
   ]
  },
  {
   "cell_type": "code",
   "execution_count": 1,
   "metadata": {},
   "outputs": [],
   "source": [
    "from matplotlib import pyplot as plt\n",
    "import numpy as np\n",
    "import numpy.random as npr\n",
    "import pandas as pd\n",
    "from scipy.optimize import leastsq\n",
    "\n",
    "import datetime\n",
    "import warnings\n",
    "\n",
    "from lib import get_or_update_source_data, logistic4, residuals, peval\n",
    "\n",
    "warnings.filterwarnings('ignore')"
   ]
  },
  {
   "cell_type": "code",
   "execution_count": 2,
   "metadata": {},
   "outputs": [
    {
     "name": "stdout",
     "output_type": "stream",
     "text": [
      "Updating source data\n"
     ]
    }
   ],
   "source": [
    "get_or_update_source_data()"
   ]
  },
  {
   "cell_type": "code",
   "execution_count": 3,
   "metadata": {},
   "outputs": [],
   "source": [
    "df = pd.read_csv('COVID-19/csse_covid_19_data/csse_covid_19_time_series/time_series_19-covid-Confirmed.csv') "
   ]
  },
  {
   "cell_type": "markdown",
   "metadata": {},
   "source": [
    "## Report Update Information:"
   ]
  },
  {
   "cell_type": "code",
   "execution_count": 4,
   "metadata": {
    "scrolled": true
   },
   "outputs": [
    {
     "name": "stdout",
     "output_type": "stream",
     "text": [
      "Report Generated On:\t\t03/23/20\n",
      "Data Source Updated On:\t\t3/22/20\n"
     ]
    }
   ],
   "source": [
    "print(f'Report Generated On:\\t\\t{datetime.datetime.now().strftime(\"%m/%d/%y\")}\\nData Source Updated On:\\t\\t{df.columns[-1]}')"
   ]
  },
  {
   "cell_type": "markdown",
   "metadata": {},
   "source": [
    "### On 3/10/20, data stopped being reported by county and began reporting at the state level:\n",
    "\n",
    "Source: https://github.com/CSSEGISandData/COVID-19/issues/382"
   ]
  },
  {
   "cell_type": "code",
   "execution_count": 5,
   "metadata": {
    "scrolled": true
   },
   "outputs": [],
   "source": [
    "us_states_by_county = df[(df[\"Country/Region\"]=='US') & (df[\"Province/State\"].str.contains(','))]"
   ]
  },
  {
   "cell_type": "code",
   "execution_count": 6,
   "metadata": {
    "scrolled": true
   },
   "outputs": [],
   "source": [
    "us_states = df[(df[\"Country/Region\"]=='US') & (df[\"Province/State\"].str.contains(',').apply(lambda x: not x))]"
   ]
  },
  {
   "cell_type": "code",
   "execution_count": 7,
   "metadata": {
    "scrolled": true
   },
   "outputs": [],
   "source": [
    "states_sum_by_county = us_states_by_county.sum().to_frame().drop([\"Province/State\", \"Country/Region\", \"Lat\", \"Long\"])\n",
    "states_sum_by_county = states_sum_by_county[(states_sum_by_county[0]!=0)]\n",
    "states_sum_by_county.columns = [\"Confirmed Cases\"]\n",
    "states_sum_by_county.index = [datetime.datetime.strptime(index, \"%m/%d/%y\") for index in states_sum_by_county.index]"
   ]
  },
  {
   "cell_type": "code",
   "execution_count": 8,
   "metadata": {},
   "outputs": [],
   "source": [
    "states_sum = us_states.sum().to_frame().drop([\"Province/State\", \"Country/Region\", \"Lat\", \"Long\"])\n",
    "states_sum = states_sum[(states_sum[0]!=0)]\n",
    "states_sum.columns = [\"Confirmed Cases\"]\n",
    "states_sum.index = [datetime.datetime.strptime(index, \"%m/%d/%y\") for index in states_sum.index]"
   ]
  },
  {
   "cell_type": "code",
   "execution_count": 9,
   "metadata": {},
   "outputs": [],
   "source": [
    "totals = pd.concat([states_sum_by_county.loc[:'2020-03-9'], states_sum.loc['2020-03-10':]], axis=0)"
   ]
  },
  {
   "cell_type": "markdown",
   "metadata": {},
   "source": [
    "# Data and Graphs:"
   ]
  },
  {
   "cell_type": "markdown",
   "metadata": {},
   "source": [
    "### Follows typical exponential growth starting around Feb 28rd:"
   ]
  },
  {
   "cell_type": "code",
   "execution_count": 10,
   "metadata": {},
   "outputs": [
    {
     "data": {
      "text/plain": [
       "<matplotlib.axes._subplots.AxesSubplot at 0x7fd0f969f790>"
      ]
     },
     "execution_count": 10,
     "metadata": {},
     "output_type": "execute_result"
    },
    {
     "data": {
      "image/png": "[encoded data removed]",
      "text/plain": [
       "<Figure size 432x288 with 1 Axes>"
      ]
     },
     "metadata": {
      "needs_background": "light"
     },
     "output_type": "display_data"
    }
   ],
   "source": [
    "totals.plot()"
   ]
  },
  {
   "cell_type": "markdown",
   "metadata": {},
   "source": [
    "### Viewing growth from a log scale:"
   ]
  },
  {
   "cell_type": "code",
   "execution_count": 11,
   "metadata": {
    "scrolled": false
   },
   "outputs": [
    {
     "data": {
      "text/plain": [
       "<matplotlib.axes._subplots.AxesSubplot at 0x7fd0f3679a50>"
      ]
     },
     "execution_count": 11,
     "metadata": {},
     "output_type": "execute_result"
    },
    {
     "data": {
      "image/png": "[encoded data removed]",
      "text/plain": [
       "<Figure size 432x288 with 1 Axes>"
      ]
     },
     "metadata": {
      "needs_background": "light"
     },
     "output_type": "display_data"
    }
   ],
   "source": [
    "totals.plot(logy=True)"
   ]
  },
  {
   "cell_type": "markdown",
   "metadata": {},
   "source": [
    "### Data in Numbers - US Confirmed Cases (From Feb 23rd):"
   ]
  },
  {
   "cell_type": "code",
   "execution_count": 12,
   "metadata": {},
   "outputs": [
    {
     "data": {
      "text/html": [
       "<div>\n",
       "<style scoped>\n",
       "    .dataframe tbody tr th:only-of-type {\n",
       "        vertical-align: middle;\n",
       "    }\n",
       "\n",
       "    .dataframe tbody tr th {\n",
       "        vertical-align: top;\n",
       "    }\n",
       "\n",
       "    .dataframe thead th {\n",
       "        text-align: right;\n",
       "    }\n",
       "</style>\n",
       "<table border=\"1\" class=\"dataframe\">\n",
       "  <thead>\n",
       "    <tr style=\"text-align: right;\">\n",
       "      <th></th>\n",
       "      <th>Confirmed Cases</th>\n",
       "    </tr>\n",
       "  </thead>\n",
       "  <tbody>\n",
       "    <tr>\n",
       "      <th>2020-02-28</th>\n",
       "      <td>16</td>\n",
       "    </tr>\n",
       "    <tr>\n",
       "      <th>2020-02-29</th>\n",
       "      <td>24</td>\n",
       "    </tr>\n",
       "    <tr>\n",
       "      <th>2020-03-01</th>\n",
       "      <td>30</td>\n",
       "    </tr>\n",
       "    <tr>\n",
       "      <th>2020-03-02</th>\n",
       "      <td>53</td>\n",
       "    </tr>\n",
       "    <tr>\n",
       "      <th>2020-03-03</th>\n",
       "      <td>73</td>\n",
       "    </tr>\n",
       "    <tr>\n",
       "      <th>2020-03-04</th>\n",
       "      <td>104</td>\n",
       "    </tr>\n",
       "    <tr>\n",
       "      <th>2020-03-05</th>\n",
       "      <td>172</td>\n",
       "    </tr>\n",
       "    <tr>\n",
       "      <th>2020-03-06</th>\n",
       "      <td>217</td>\n",
       "    </tr>\n",
       "    <tr>\n",
       "      <th>2020-03-07</th>\n",
       "      <td>336</td>\n",
       "    </tr>\n",
       "    <tr>\n",
       "      <th>2020-03-08</th>\n",
       "      <td>452</td>\n",
       "    </tr>\n",
       "    <tr>\n",
       "      <th>2020-03-09</th>\n",
       "      <td>517</td>\n",
       "    </tr>\n",
       "    <tr>\n",
       "      <th>2020-03-10</th>\n",
       "      <td>959</td>\n",
       "    </tr>\n",
       "    <tr>\n",
       "      <th>2020-03-11</th>\n",
       "      <td>1281</td>\n",
       "    </tr>\n",
       "    <tr>\n",
       "      <th>2020-03-12</th>\n",
       "      <td>1663</td>\n",
       "    </tr>\n",
       "    <tr>\n",
       "      <th>2020-03-13</th>\n",
       "      <td>2179</td>\n",
       "    </tr>\n",
       "    <tr>\n",
       "      <th>2020-03-14</th>\n",
       "      <td>2727</td>\n",
       "    </tr>\n",
       "    <tr>\n",
       "      <th>2020-03-15</th>\n",
       "      <td>3499</td>\n",
       "    </tr>\n",
       "    <tr>\n",
       "      <th>2020-03-16</th>\n",
       "      <td>4632</td>\n",
       "    </tr>\n",
       "    <tr>\n",
       "      <th>2020-03-17</th>\n",
       "      <td>6421</td>\n",
       "    </tr>\n",
       "    <tr>\n",
       "      <th>2020-03-18</th>\n",
       "      <td>7783</td>\n",
       "    </tr>\n",
       "    <tr>\n",
       "      <th>2020-03-19</th>\n",
       "      <td>13677</td>\n",
       "    </tr>\n",
       "    <tr>\n",
       "      <th>2020-03-20</th>\n",
       "      <td>19100</td>\n",
       "    </tr>\n",
       "    <tr>\n",
       "      <th>2020-03-21</th>\n",
       "      <td>25489</td>\n",
       "    </tr>\n",
       "    <tr>\n",
       "      <th>2020-03-22</th>\n",
       "      <td>33272</td>\n",
       "    </tr>\n",
       "  </tbody>\n",
       "</table>\n",
       "</div>"
      ],
      "text/plain": [
       "           Confirmed Cases\n",
       "2020-02-28              16\n",
       "2020-02-29              24\n",
       "2020-03-01              30\n",
       "2020-03-02              53\n",
       "2020-03-03              73\n",
       "2020-03-04             104\n",
       "2020-03-05             172\n",
       "2020-03-06             217\n",
       "2020-03-07             336\n",
       "2020-03-08             452\n",
       "2020-03-09             517\n",
       "2020-03-10             959\n",
       "2020-03-11            1281\n",
       "2020-03-12            1663\n",
       "2020-03-13            2179\n",
       "2020-03-14            2727\n",
       "2020-03-15            3499\n",
       "2020-03-16            4632\n",
       "2020-03-17            6421\n",
       "2020-03-18            7783\n",
       "2020-03-19           13677\n",
       "2020-03-20           19100\n",
       "2020-03-21           25489\n",
       "2020-03-22           33272"
      ]
     },
     "execution_count": 12,
     "metadata": {},
     "output_type": "execute_result"
    }
   ],
   "source": [
    "totals = totals.loc['2020-02-28':]\n",
    "totals"
   ]
  },
  {
   "cell_type": "markdown",
   "metadata": {},
   "source": [
    "# Generating Lines of Best Fit:\n",
    "\n",
    "### We can see that fitting to the data seems to work pretty well"
   ]
  },
  {
   "cell_type": "code",
   "execution_count": 13,
   "metadata": {
    "scrolled": false
   },
   "outputs": [
    {
     "data": {
      "text/plain": [
       "<matplotlib.legend.Legend at 0x7fd0f342a5d0>"
      ]
     },
     "execution_count": 13,
     "metadata": {},
     "output_type": "execute_result"
    },
    {
     "data": {
      "image/png": "[encoded data removed]",
      "text/plain": [
       "<Figure size 432x288 with 1 Axes>"
      ]
     },
     "metadata": {
      "needs_background": "light"
     },
     "output_type": "display_data"
    }
   ],
   "source": [
    "x = np.array(range(len(totals.index)))\n",
    "y_meas = totals['Confirmed Cases'].astype(float)\n",
    "\n",
    "# Initial guess for parameters\n",
    "p0 = [0, 1, 1, 1]\n",
    "\n",
    "# Fit equation using least squares optimization\n",
    "plsq = leastsq(residuals, p0, args=(y_meas, x))\n",
    "\n",
    "x_hat = np.array(range(len(totals.index)))\n",
    "plt.plot(x_hat,peval(x_hat,plsq[0]),x,y_meas,'o')\n",
    "plt.title('Title')\n",
    "plt.legend(['Fit', 'Actual'], loc='upper left')"
   ]
  },
  {
   "cell_type": "markdown",
   "metadata": {},
   "source": [
    "# Projections:\n",
    "\n",
    "### Note: These projections are only estimations, and represent my opinions and mine alone. \n",
    "\n",
    "For Official Coronavirus information please visit https://www.who.int/emergencies/diseases/novel-coronavirus-2019/situation-reports/"
   ]
  },
  {
   "cell_type": "markdown",
   "metadata": {},
   "source": [
    "### We use a logistic growth model to calculate our projections\n",
    "Unlike exponential growth, logistic growth tapers off over time:\n",
    "![title](assets/logistic_growth.png)"
   ]
  },
  {
   "cell_type": "markdown",
   "metadata": {},
   "source": [
    "### Plot results with predictions for ten days into the future:"
   ]
  },
  {
   "cell_type": "code",
   "execution_count": 14,
   "metadata": {},
   "outputs": [],
   "source": [
    "num_pred_days = 10"
   ]
  },
  {
   "cell_type": "code",
   "execution_count": 15,
   "metadata": {
    "scrolled": false
   },
   "outputs": [
    {
     "data": {
      "text/plain": [
       "<matplotlib.legend.Legend at 0x7fd0f3348190>"
      ]
     },
     "execution_count": 15,
     "metadata": {},
     "output_type": "execute_result"
    },
    {
     "data": {
      "image/png": "[encoded data removed]",
      "text/plain": [
       "<Figure size 432x288 with 1 Axes>"
      ]
     },
     "metadata": {
      "needs_background": "light"
     },
     "output_type": "display_data"
    }
   ],
   "source": [
    "x_hat = np.array(range(len(totals.index) + num_pred_days))\n",
    "plt.plot(x_hat,peval(x_hat,plsq[0]),x,y_meas,'o')\n",
    "plt.title('Title')\n",
    "plt.legend(['Proj', 'Actual'], loc='upper left')"
   ]
  },
  {
   "cell_type": "markdown",
   "metadata": {},
   "source": [
    "### Projections in numbers:"
   ]
  },
  {
   "cell_type": "code",
   "execution_count": 16,
   "metadata": {
    "scrolled": false
   },
   "outputs": [
    {
     "data": {
      "text/html": [
       "<div>\n",
       "<style scoped>\n",
       "    .dataframe tbody tr th:only-of-type {\n",
       "        vertical-align: middle;\n",
       "    }\n",
       "\n",
       "    .dataframe tbody tr th {\n",
       "        vertical-align: top;\n",
       "    }\n",
       "\n",
       "    .dataframe thead th {\n",
       "        text-align: right;\n",
       "    }\n",
       "</style>\n",
       "<table border=\"1\" class=\"dataframe\">\n",
       "  <thead>\n",
       "    <tr style=\"text-align: right;\">\n",
       "      <th></th>\n",
       "      <th>Proj</th>\n",
       "      <th>Actual</th>\n",
       "      <th>Proj Growth</th>\n",
       "      <th>Actual Growth</th>\n",
       "      <th>Actual / Proj Diff</th>\n",
       "      <th>Actual / Proj Growth Diff</th>\n",
       "    </tr>\n",
       "  </thead>\n",
       "  <tbody>\n",
       "    <tr>\n",
       "      <th>2020-02-28</th>\n",
       "      <td>346.0</td>\n",
       "      <td>16</td>\n",
       "      <td>0.0</td>\n",
       "      <td>0</td>\n",
       "      <td>-330</td>\n",
       "      <td>0</td>\n",
       "    </tr>\n",
       "    <tr>\n",
       "      <th>2020-02-29</th>\n",
       "      <td>346.0</td>\n",
       "      <td>24</td>\n",
       "      <td>0.0</td>\n",
       "      <td>8</td>\n",
       "      <td>-322</td>\n",
       "      <td>8</td>\n",
       "    </tr>\n",
       "    <tr>\n",
       "      <th>2020-03-01</th>\n",
       "      <td>346.0</td>\n",
       "      <td>30</td>\n",
       "      <td>0.0</td>\n",
       "      <td>6</td>\n",
       "      <td>-316</td>\n",
       "      <td>6</td>\n",
       "    </tr>\n",
       "    <tr>\n",
       "      <th>2020-03-02</th>\n",
       "      <td>346.0</td>\n",
       "      <td>53</td>\n",
       "      <td>0.0</td>\n",
       "      <td>23</td>\n",
       "      <td>-293</td>\n",
       "      <td>23</td>\n",
       "    </tr>\n",
       "    <tr>\n",
       "      <th>2020-03-03</th>\n",
       "      <td>346.0</td>\n",
       "      <td>73</td>\n",
       "      <td>0.0</td>\n",
       "      <td>20</td>\n",
       "      <td>-273</td>\n",
       "      <td>20</td>\n",
       "    </tr>\n",
       "    <tr>\n",
       "      <th>2020-03-04</th>\n",
       "      <td>347.0</td>\n",
       "      <td>104</td>\n",
       "      <td>1.0</td>\n",
       "      <td>31</td>\n",
       "      <td>-243</td>\n",
       "      <td>30</td>\n",
       "    </tr>\n",
       "    <tr>\n",
       "      <th>2020-03-05</th>\n",
       "      <td>349.0</td>\n",
       "      <td>172</td>\n",
       "      <td>2.0</td>\n",
       "      <td>68</td>\n",
       "      <td>-177</td>\n",
       "      <td>66</td>\n",
       "    </tr>\n",
       "    <tr>\n",
       "      <th>2020-03-06</th>\n",
       "      <td>355.0</td>\n",
       "      <td>217</td>\n",
       "      <td>6.0</td>\n",
       "      <td>45</td>\n",
       "      <td>-138</td>\n",
       "      <td>39</td>\n",
       "    </tr>\n",
       "    <tr>\n",
       "      <th>2020-03-07</th>\n",
       "      <td>370.0</td>\n",
       "      <td>336</td>\n",
       "      <td>15.0</td>\n",
       "      <td>119</td>\n",
       "      <td>-34</td>\n",
       "      <td>104</td>\n",
       "    </tr>\n",
       "    <tr>\n",
       "      <th>2020-03-08</th>\n",
       "      <td>401.0</td>\n",
       "      <td>452</td>\n",
       "      <td>31.0</td>\n",
       "      <td>116</td>\n",
       "      <td>51</td>\n",
       "      <td>85</td>\n",
       "    </tr>\n",
       "    <tr>\n",
       "      <th>2020-03-09</th>\n",
       "      <td>460.0</td>\n",
       "      <td>517</td>\n",
       "      <td>59.0</td>\n",
       "      <td>65</td>\n",
       "      <td>57</td>\n",
       "      <td>6</td>\n",
       "    </tr>\n",
       "    <tr>\n",
       "      <th>2020-03-10</th>\n",
       "      <td>565.0</td>\n",
       "      <td>959</td>\n",
       "      <td>105.0</td>\n",
       "      <td>442</td>\n",
       "      <td>394</td>\n",
       "      <td>337</td>\n",
       "    </tr>\n",
       "    <tr>\n",
       "      <th>2020-03-11</th>\n",
       "      <td>744.0</td>\n",
       "      <td>1281</td>\n",
       "      <td>179.0</td>\n",
       "      <td>322</td>\n",
       "      <td>537</td>\n",
       "      <td>143</td>\n",
       "    </tr>\n",
       "    <tr>\n",
       "      <th>2020-03-12</th>\n",
       "      <td>1035.0</td>\n",
       "      <td>1663</td>\n",
       "      <td>291.0</td>\n",
       "      <td>382</td>\n",
       "      <td>628</td>\n",
       "      <td>91</td>\n",
       "    </tr>\n",
       "    <tr>\n",
       "      <th>2020-03-13</th>\n",
       "      <td>1491.0</td>\n",
       "      <td>2179</td>\n",
       "      <td>456.0</td>\n",
       "      <td>516</td>\n",
       "      <td>688</td>\n",
       "      <td>60</td>\n",
       "    </tr>\n",
       "    <tr>\n",
       "      <th>2020-03-14</th>\n",
       "      <td>2182.0</td>\n",
       "      <td>2727</td>\n",
       "      <td>691.0</td>\n",
       "      <td>548</td>\n",
       "      <td>545</td>\n",
       "      <td>-143</td>\n",
       "    </tr>\n",
       "    <tr>\n",
       "      <th>2020-03-15</th>\n",
       "      <td>3200.0</td>\n",
       "      <td>3499</td>\n",
       "      <td>1018.0</td>\n",
       "      <td>772</td>\n",
       "      <td>299</td>\n",
       "      <td>-246</td>\n",
       "    </tr>\n",
       "    <tr>\n",
       "      <th>2020-03-16</th>\n",
       "      <td>4664.0</td>\n",
       "      <td>4632</td>\n",
       "      <td>1464.0</td>\n",
       "      <td>1133</td>\n",
       "      <td>-32</td>\n",
       "      <td>-331</td>\n",
       "    </tr>\n",
       "    <tr>\n",
       "      <th>2020-03-17</th>\n",
       "      <td>6721.0</td>\n",
       "      <td>6421</td>\n",
       "      <td>2057.0</td>\n",
       "      <td>1789</td>\n",
       "      <td>-300</td>\n",
       "      <td>-268</td>\n",
       "    </tr>\n",
       "    <tr>\n",
       "      <th>2020-03-18</th>\n",
       "      <td>9553.0</td>\n",
       "      <td>7783</td>\n",
       "      <td>2832.0</td>\n",
       "      <td>1362</td>\n",
       "      <td>-1770</td>\n",
       "      <td>-1470</td>\n",
       "    </tr>\n",
       "    <tr>\n",
       "      <th>2020-03-19</th>\n",
       "      <td>13379.0</td>\n",
       "      <td>13677</td>\n",
       "      <td>3826.0</td>\n",
       "      <td>5894</td>\n",
       "      <td>298</td>\n",
       "      <td>2068</td>\n",
       "    </tr>\n",
       "    <tr>\n",
       "      <th>2020-03-20</th>\n",
       "      <td>18457.0</td>\n",
       "      <td>19100</td>\n",
       "      <td>5078.0</td>\n",
       "      <td>5423</td>\n",
       "      <td>643</td>\n",
       "      <td>345</td>\n",
       "    </tr>\n",
       "    <tr>\n",
       "      <th>2020-03-21</th>\n",
       "      <td>25083.0</td>\n",
       "      <td>25489</td>\n",
       "      <td>6626.0</td>\n",
       "      <td>6389</td>\n",
       "      <td>406</td>\n",
       "      <td>-237</td>\n",
       "    </tr>\n",
       "    <tr>\n",
       "      <th>2020-03-22</th>\n",
       "      <td>33591.0</td>\n",
       "      <td>33272</td>\n",
       "      <td>8508.0</td>\n",
       "      <td>7783</td>\n",
       "      <td>-319</td>\n",
       "      <td>-725</td>\n",
       "    </tr>\n",
       "    <tr>\n",
       "      <th>2020-03-23</th>\n",
       "      <td>44339.0</td>\n",
       "      <td>TBD</td>\n",
       "      <td>10748.0</td>\n",
       "      <td>TBD</td>\n",
       "      <td>TBD</td>\n",
       "      <td>TBD</td>\n",
       "    </tr>\n",
       "    <tr>\n",
       "      <th>2020-03-24</th>\n",
       "      <td>57702.0</td>\n",
       "      <td>TBD</td>\n",
       "      <td>13363.0</td>\n",
       "      <td>TBD</td>\n",
       "      <td>TBD</td>\n",
       "      <td>TBD</td>\n",
       "    </tr>\n",
       "    <tr>\n",
       "      <th>2020-03-25</th>\n",
       "      <td>74047.0</td>\n",
       "      <td>TBD</td>\n",
       "      <td>16345.0</td>\n",
       "      <td>TBD</td>\n",
       "      <td>TBD</td>\n",
       "      <td>TBD</td>\n",
       "    </tr>\n",
       "    <tr>\n",
       "      <th>2020-03-26</th>\n",
       "      <td>93711.0</td>\n",
       "      <td>TBD</td>\n",
       "      <td>19664.0</td>\n",
       "      <td>TBD</td>\n",
       "      <td>TBD</td>\n",
       "      <td>TBD</td>\n",
       "    </tr>\n",
       "    <tr>\n",
       "      <th>2020-03-27</th>\n",
       "      <td>116967.0</td>\n",
       "      <td>TBD</td>\n",
       "      <td>23256.0</td>\n",
       "      <td>TBD</td>\n",
       "      <td>TBD</td>\n",
       "      <td>TBD</td>\n",
       "    </tr>\n",
       "    <tr>\n",
       "      <th>2020-03-28</th>\n",
       "      <td>143987.0</td>\n",
       "      <td>TBD</td>\n",
       "      <td>27020.0</td>\n",
       "      <td>TBD</td>\n",
       "      <td>TBD</td>\n",
       "      <td>TBD</td>\n",
       "    </tr>\n",
       "    <tr>\n",
       "      <th>2020-03-29</th>\n",
       "      <td>174814.0</td>\n",
       "      <td>TBD</td>\n",
       "      <td>30827.0</td>\n",
       "      <td>TBD</td>\n",
       "      <td>TBD</td>\n",
       "      <td>TBD</td>\n",
       "    </tr>\n",
       "    <tr>\n",
       "      <th>2020-03-30</th>\n",
       "      <td>209326.0</td>\n",
       "      <td>TBD</td>\n",
       "      <td>34512.0</td>\n",
       "      <td>TBD</td>\n",
       "      <td>TBD</td>\n",
       "      <td>TBD</td>\n",
       "    </tr>\n",
       "    <tr>\n",
       "      <th>2020-03-31</th>\n",
       "      <td>247226.0</td>\n",
       "      <td>TBD</td>\n",
       "      <td>37900.0</td>\n",
       "      <td>TBD</td>\n",
       "      <td>TBD</td>\n",
       "      <td>TBD</td>\n",
       "    </tr>\n",
       "    <tr>\n",
       "      <th>2020-04-01</th>\n",
       "      <td>288041.0</td>\n",
       "      <td>TBD</td>\n",
       "      <td>40815.0</td>\n",
       "      <td>TBD</td>\n",
       "      <td>TBD</td>\n",
       "      <td>TBD</td>\n",
       "    </tr>\n",
       "  </tbody>\n",
       "</table>\n",
       "</div>"
      ],
      "text/plain": [
       "                Proj Actual  Proj Growth Actual Growth Actual / Proj Diff  \\\n",
       "2020-02-28     346.0     16          0.0             0               -330   \n",
       "2020-02-29     346.0     24          0.0             8               -322   \n",
       "2020-03-01     346.0     30          0.0             6               -316   \n",
       "2020-03-02     346.0     53          0.0            23               -293   \n",
       "2020-03-03     346.0     73          0.0            20               -273   \n",
       "2020-03-04     347.0    104          1.0            31               -243   \n",
       "2020-03-05     349.0    172          2.0            68               -177   \n",
       "2020-03-06     355.0    217          6.0            45               -138   \n",
       "2020-03-07     370.0    336         15.0           119                -34   \n",
       "2020-03-08     401.0    452         31.0           116                 51   \n",
       "2020-03-09     460.0    517         59.0            65                 57   \n",
       "2020-03-10     565.0    959        105.0           442                394   \n",
       "2020-03-11     744.0   1281        179.0           322                537   \n",
       "2020-03-12    1035.0   1663        291.0           382                628   \n",
       "2020-03-13    1491.0   2179        456.0           516                688   \n",
       "2020-03-14    2182.0   2727        691.0           548                545   \n",
       "2020-03-15    3200.0   3499       1018.0           772                299   \n",
       "2020-03-16    4664.0   4632       1464.0          1133                -32   \n",
       "2020-03-17    6721.0   6421       2057.0          1789               -300   \n",
       "2020-03-18    9553.0   7783       2832.0          1362              -1770   \n",
       "2020-03-19   13379.0  13677       3826.0          5894                298   \n",
       "2020-03-20   18457.0  19100       5078.0          5423                643   \n",
       "2020-03-21   25083.0  25489       6626.0          6389                406   \n",
       "2020-03-22   33591.0  33272       8508.0          7783               -319   \n",
       "2020-03-23   44339.0    TBD      10748.0           TBD                TBD   \n",
       "2020-03-24   57702.0    TBD      13363.0           TBD                TBD   \n",
       "2020-03-25   74047.0    TBD      16345.0           TBD                TBD   \n",
       "2020-03-26   93711.0    TBD      19664.0           TBD                TBD   \n",
       "2020-03-27  116967.0    TBD      23256.0           TBD                TBD   \n",
       "2020-03-28  143987.0    TBD      27020.0           TBD                TBD   \n",
       "2020-03-29  174814.0    TBD      30827.0           TBD                TBD   \n",
       "2020-03-30  209326.0    TBD      34512.0           TBD                TBD   \n",
       "2020-03-31  247226.0    TBD      37900.0           TBD                TBD   \n",
       "2020-04-01  288041.0    TBD      40815.0           TBD                TBD   \n",
       "\n",
       "           Actual / Proj Growth Diff  \n",
       "2020-02-28                         0  \n",
       "2020-02-29                         8  \n",
       "2020-03-01                         6  \n",
       "2020-03-02                        23  \n",
       "2020-03-03                        20  \n",
       "2020-03-04                        30  \n",
       "2020-03-05                        66  \n",
       "2020-03-06                        39  \n",
       "2020-03-07                       104  \n",
       "2020-03-08                        85  \n",
       "2020-03-09                         6  \n",
       "2020-03-10                       337  \n",
       "2020-03-11                       143  \n",
       "2020-03-12                        91  \n",
       "2020-03-13                        60  \n",
       "2020-03-14                      -143  \n",
       "2020-03-15                      -246  \n",
       "2020-03-16                      -331  \n",
       "2020-03-17                      -268  \n",
       "2020-03-18                     -1470  \n",
       "2020-03-19                      2068  \n",
       "2020-03-20                       345  \n",
       "2020-03-21                      -237  \n",
       "2020-03-22                      -725  \n",
       "2020-03-23                       TBD  \n",
       "2020-03-24                       TBD  \n",
       "2020-03-25                       TBD  \n",
       "2020-03-26                       TBD  \n",
       "2020-03-27                       TBD  \n",
       "2020-03-28                       TBD  \n",
       "2020-03-29                       TBD  \n",
       "2020-03-30                       TBD  \n",
       "2020-03-31                       TBD  \n",
       "2020-04-01                       TBD  "
      ]
     },
     "execution_count": 16,
     "metadata": {},
     "output_type": "execute_result"
    }
   ],
   "source": [
    "proj = round(pd.DataFrame(peval(x_hat,plsq[0])))\n",
    "proj['Actual'] = np.concatenate((np.array(y_meas), np.array([np.NaN for _ in range(num_pred_days)])), axis=0)\n",
    "proj.index = [datetime.date(2020,2,28) + datetime.timedelta(days=x) for x in range(len(x_hat))]\n",
    "proj.columns = ['Proj', 'Actual']\n",
    "proj['Proj Growth'] = [max(list(proj['Proj'])[idx] - list(proj['Proj'])[idx - 1], 0.0) for idx, _ in enumerate(list(proj['Proj']))]\n",
    "proj['Actual Growth'] = [max(y_meas[idx] - y_meas[idx - 1], 0.0) for idx, _ in enumerate(list(y_meas))] + [np.NaN for _ in range(num_pred_days)]\n",
    "proj['Actual / Proj Diff'] = proj['Actual'] - proj['Proj']\n",
    "proj['Actual / Proj Growth Diff'] = proj['Actual Growth'] - proj['Proj Growth']\n",
    "proj.astype(object).fillna(\"TBD\")"
   ]
  },
  {
   "cell_type": "code",
   "execution_count": 17,
   "metadata": {},
   "outputs": [
    {
     "name": "stdout",
     "output_type": "stream",
     "text": [
      "The model predicts 44339.0 confirmed cases by the end of today.\n",
      "The model predicts 288041.0 confirmed cases in ten day's time.\n"
     ]
    }
   ],
   "source": [
    "print(f\"The model predicts {round(proj['Proj'][datetime.date.today()])} confirmed cases by the end of today.\")\n",
    "print(f\"The model predicts {round(proj['Proj'][-1])} confirmed cases in ten day's time.\")"
   ]
  },
  {
   "cell_type": "markdown",
   "metadata": {},
   "source": [
    "# Today's end-of-day results (coming EOD):"
   ]
  },
  {
   "cell_type": "code",
   "execution_count": 18,
   "metadata": {
    "scrolled": false
   },
   "outputs": [],
   "source": [
    "# df = pd.read_csv(f'COVID-19/csse_covid_19_data/csse_covid_19_daily_reports/{(datetime.datetime.now()).strftime(\"%m-%d-%Y\")}.csv') \n",
    "# us = df[(df[\"Country/Region\"]=='US')]\n",
    "# us.sort_values(\"Province/State\").reset_index(drop=True)"
   ]
  },
  {
   "cell_type": "code",
   "execution_count": 19,
   "metadata": {},
   "outputs": [],
   "source": [
    "# us_totals = us.sum().to_frame().drop([\"Province/State\", \"Country/Region\", \"Last Update\", \"Latitude\", \"Longitude\"])\n",
    "# us_totals"
   ]
  },
  {
   "cell_type": "code",
   "execution_count": 20,
   "metadata": {},
   "outputs": [],
   "source": [
    "# c = us_totals[0]['Confirmed']\n",
    "# d = us_totals[0]['Deaths']\n",
    "# print(f'US mortality rate as of the end of today: {round((d/c) * 100, 2)}%')"
   ]
  }
 ],
 "metadata": {
  "kernelspec": {
   "display_name": "Python 3",
   "language": "python",
   "name": "python3"
  },
  "language_info": {
   "codemirror_mode": {
    "name": "ipython",
    "version": 3
   },
   "file_extension": ".py",
   "mimetype": "text/x-python",
   "name": "python",
   "nbconvert_exporter": "python",
   "pygments_lexer": "ipython3",
   "version": "3.7.5"
  }
 },
 "nbformat": 4,
 "nbformat_minor": 4
}
